{
 "cells": [
  {
   "cell_type": "code",
   "execution_count": 2,
   "id": "initial_id",
   "metadata": {
    "collapsed": true,
    "ExecuteTime": {
     "end_time": "2024-04-11T08:33:06.390994800Z",
     "start_time": "2024-04-11T08:33:06.377294200Z"
    }
   },
   "outputs": [],
   "source": [
    "import os"
   ]
  },
  {
   "cell_type": "code",
   "outputs": [],
   "source": [
    "file_names_Violence = os.listdir(\"papkahuyapka/Violence\")\n",
    "file_names_NotViolence = os.listdir(\"papkahuyapka/NotViolence\")\n"
   ],
   "metadata": {
    "collapsed": false,
    "ExecuteTime": {
     "end_time": "2024-04-11T08:33:06.938112700Z",
     "start_time": "2024-04-11T08:33:06.908398700Z"
    }
   },
   "id": "74391aaf9d466ff8",
   "execution_count": 3
  },
  {
   "cell_type": "code",
   "outputs": [
    {
     "data": {
      "text/plain": "5236"
     },
     "execution_count": 4,
     "metadata": {},
     "output_type": "execute_result"
    }
   ],
   "source": [
    "len(file_names_Violence) + len(file_names_NotViolence)"
   ],
   "metadata": {
    "collapsed": false,
    "ExecuteTime": {
     "end_time": "2024-04-11T08:33:18.362294700Z",
     "start_time": "2024-04-11T08:33:18.345533300Z"
    }
   },
   "id": "b752ce596b5abc77",
   "execution_count": 4
  },
  {
   "cell_type": "code",
   "outputs": [],
   "source": [
    "video_names_Violence = [file_name.split(\"__track\")[0] for file_name in file_names_Violence]\n",
    "video_names_NotViolence = [file_name.split(\"__track\")[0] for file_name in file_names_NotViolence]\n"
   ],
   "metadata": {
    "collapsed": false,
    "ExecuteTime": {
     "end_time": "2024-04-11T08:15:18.007045Z",
     "start_time": "2024-04-11T08:15:18.000880600Z"
    }
   },
   "id": "cc88b0812e9e47b1",
   "execution_count": 5
  },
  {
   "cell_type": "code",
   "outputs": [],
   "source": [
    "hash_Violence = [hash(name)%10 for name in video_names_Violence]\n",
    "hash_NotViolence = [hash(name)%10 for name in video_names_NotViolence]"
   ],
   "metadata": {
    "collapsed": false,
    "ExecuteTime": {
     "end_time": "2024-04-11T08:15:18.412061600Z",
     "start_time": "2024-04-11T08:15:18.405312800Z"
    }
   },
   "id": "83a01fd33551f92d",
   "execution_count": 6
  },
  {
   "cell_type": "code",
   "outputs": [
    {
     "data": {
      "text/plain": "[6,\n 6,\n 6,\n 6,\n 6,\n 6,\n 8,\n 8,\n 8,\n 8,\n 6,\n 6,\n 6,\n 6,\n 2,\n 2,\n 2,\n 2,\n 2,\n 7,\n 7,\n 7,\n 7,\n 7,\n 7,\n 7,\n 7,\n 7,\n 7,\n 7,\n 7,\n 7,\n 7,\n 7,\n 2,\n 2,\n 2,\n 2,\n 2,\n 2,\n 2,\n 1,\n 1,\n 1,\n 1,\n 1,\n 1,\n 1,\n 1,\n 1,\n 1,\n 1,\n 1,\n 1,\n 5,\n 5,\n 5,\n 5,\n 5,\n 5,\n 5,\n 5,\n 5,\n 5,\n 0,\n 0,\n 0,\n 0,\n 0,\n 0,\n 0,\n 0,\n 0,\n 0,\n 0,\n 0,\n 3,\n 3,\n 3,\n 3,\n 3,\n 3,\n 3,\n 3,\n 8,\n 8,\n 4,\n 4,\n 4,\n 4,\n 4,\n 4,\n 4,\n 4,\n 4,\n 4,\n 4,\n 4,\n 0,\n 0,\n 0,\n 1,\n 1,\n 1,\n 1,\n 1,\n 1,\n 1,\n 1,\n 1,\n 1,\n 8,\n 0,\n 4,\n 4,\n 4,\n 3,\n 2,\n 2,\n 2,\n 2,\n 2,\n 2,\n 2,\n 2,\n 2,\n 2,\n 2,\n 2,\n 9,\n 9,\n 0,\n 0,\n 0,\n 0,\n 2,\n 2,\n 2,\n 2,\n 2,\n 7,\n 7,\n 7,\n 7,\n 7,\n 7,\n 7,\n 7,\n 7,\n 9,\n 5,\n 5,\n 5,\n 5,\n 5,\n 5,\n 5,\n 5,\n 5,\n 5,\n 5,\n 5,\n 5,\n 5,\n 5,\n 5,\n 7,\n 8,\n 3,\n 5,\n 6,\n 6,\n 6,\n 6,\n 6,\n 9,\n 6,\n 6,\n 6,\n 6,\n 5,\n 5,\n 5,\n 5,\n 8,\n 1,\n 1,\n 1,\n 0,\n 0,\n 0,\n 0,\n 5,\n 5,\n 7,\n 7,\n 9,\n 9,\n 9,\n 7,\n 7,\n 7,\n 7,\n 7,\n 7,\n 7,\n 7,\n 7,\n 7,\n 7,\n 7,\n 7,\n 7,\n 7,\n 7,\n 7,\n 7,\n 7,\n 7,\n 7,\n 7,\n 7,\n 7,\n 7,\n 5,\n 2,\n 5,\n 5,\n 6,\n 6,\n 6,\n 6,\n 6,\n 6,\n 6,\n 6,\n 6,\n 6,\n 3,\n 3,\n 1,\n 3,\n 3,\n 3,\n 3,\n 3,\n 3,\n 3,\n 6,\n 6,\n 6,\n 6,\n 6,\n 6,\n 8,\n 8,\n 9,\n 9,\n 9,\n 9,\n 7,\n 6,\n 6,\n 6,\n 6,\n 0,\n 4,\n 4,\n 4,\n 4,\n 2,\n 0,\n 0,\n 0,\n 0,\n 0,\n 0,\n 0,\n 0,\n 0,\n 0,\n 0,\n 0,\n 0,\n 0,\n 0,\n 0,\n 0,\n 4,\n 4,\n 4,\n 4,\n 4,\n 4,\n 4,\n 4,\n 4,\n 4,\n 4,\n 4,\n 4,\n 4,\n 4,\n 4,\n 4,\n 7,\n 7,\n 2,\n 2,\n 2,\n 2,\n 2,\n 2,\n 2,\n 4,\n 4,\n 5,\n 5,\n 5,\n 5,\n 4,\n 4,\n 4,\n 4,\n 4,\n 4,\n 4,\n 6,\n 6,\n 6,\n 6,\n 6,\n 6,\n 6,\n 6,\n 6,\n 6,\n 0,\n 0,\n 0,\n 7,\n 7,\n 7,\n 1,\n 1,\n 1,\n 1,\n 1,\n 1,\n 1,\n 1,\n 1,\n 1,\n 1,\n 1,\n 1,\n 0,\n 3,\n 3,\n 3,\n 3,\n 3,\n 3,\n 4,\n 4,\n 2,\n 2,\n 2,\n 6,\n 6,\n 6,\n 6,\n 6,\n 6,\n 6,\n 6,\n 6,\n 2,\n 2,\n 2,\n 2,\n 2,\n 5,\n 5,\n 5,\n 5,\n 5,\n 5,\n 5,\n 5,\n 5,\n 5,\n 5,\n 5,\n 5,\n 9,\n 9,\n 2,\n 2,\n 2,\n 2,\n 2,\n 2,\n 2,\n 2,\n 0,\n 0,\n 0,\n 0,\n 0,\n 0,\n 0,\n 0,\n 0,\n 0,\n 0,\n 0,\n 8,\n 8,\n 8,\n 8,\n 8,\n 8,\n 8,\n 8,\n 8,\n 8,\n 1,\n 0,\n 7,\n 7,\n 7,\n 7,\n 7,\n 7,\n 7,\n 7,\n 7,\n 2,\n 2,\n 2,\n 2,\n 2,\n 2,\n 2,\n 2,\n 2,\n 2,\n 9,\n 9,\n 4,\n 0,\n 0,\n 0,\n 9,\n 9,\n 5,\n 5,\n 5,\n 5,\n 3,\n 3,\n 3,\n 3,\n 3,\n 4,\n 4,\n 4,\n 4,\n 4,\n 4,\n 4,\n 4,\n 4,\n 4,\n 4,\n 4,\n 2,\n 2,\n 2,\n 2,\n 7,\n 4,\n 4,\n 4,\n 4,\n 4,\n 4,\n 4,\n 4,\n 4,\n 4,\n 4,\n 4,\n 4,\n 4,\n 4,\n 4,\n 4,\n 4,\n 4,\n 4,\n 4,\n 2,\n 2,\n 2,\n 2,\n 2,\n 2,\n 2,\n 2,\n 2,\n 2,\n 7,\n 7,\n 6,\n 6,\n 6,\n 6,\n 6,\n 6,\n 6,\n 6,\n 6,\n 6,\n 6,\n 6,\n 6,\n 6,\n 6,\n 9,\n 9,\n 9,\n 9,\n 9,\n 2,\n 2,\n 2,\n 0,\n 0,\n 0,\n 0,\n 6,\n 0,\n 0,\n 0,\n 0,\n 0,\n 0,\n 4,\n 4,\n 4,\n 4,\n 4,\n 9,\n 0,\n 0,\n 0,\n 0,\n 8,\n 1,\n 1,\n 1,\n 1,\n 1,\n 1,\n 1,\n 1,\n 8,\n 8,\n 8,\n 8,\n 8,\n 8,\n 8,\n 7,\n 7,\n 7,\n 7,\n 3,\n 3,\n 8,\n 8,\n 8,\n 1,\n 8,\n 8,\n 8,\n 8,\n 1,\n 2,\n 2,\n 2,\n 2,\n 2,\n 2,\n 2,\n 4,\n 4,\n 4,\n 4,\n 8,\n 5,\n 8,\n 8,\n 5,\n 5,\n 5,\n 7,\n 7,\n 8,\n 8,\n 3,\n 3,\n 3,\n 3,\n 3,\n 3,\n 3,\n 3,\n 3,\n 3,\n 3,\n 3,\n 3,\n 3,\n 4,\n 4,\n 4,\n 9,\n 9,\n 9,\n 9,\n 5,\n 1,\n 1,\n 1,\n 1,\n 1,\n 1,\n 1,\n 1,\n 4,\n 4,\n 1,\n 1,\n 1,\n 1,\n 1,\n 1,\n 1,\n 6,\n 6,\n 6,\n 7,\n 7,\n 7,\n 7,\n 7,\n 7,\n 7,\n 7,\n 7,\n 7,\n 7,\n 7,\n 9,\n 9,\n 9,\n 5,\n 5,\n 2,\n 2,\n 2,\n 2,\n 2,\n 2,\n 2,\n 5,\n 5,\n 5,\n 5,\n 5,\n 5,\n 5,\n 5,\n 5,\n 5,\n 5,\n 5,\n 5,\n 7,\n 7,\n 0,\n 1,\n 1,\n 1,\n 9,\n 9,\n 9,\n 9,\n 9,\n 9,\n 9,\n 9,\n 9,\n 9,\n 9,\n 9,\n 9,\n 9,\n 9,\n 9,\n 9,\n 9,\n 9,\n 9,\n 9,\n 9,\n 9,\n 9,\n 9,\n 9,\n 9,\n 9,\n 3,\n 3,\n 9,\n 9,\n 0,\n 4,\n 8,\n 8,\n 3,\n 8,\n 8,\n 8,\n 8,\n 8,\n 8,\n 8,\n 8,\n 8,\n 8,\n 2,\n 2,\n 2,\n 2,\n 2,\n 2,\n 2,\n 2,\n 2,\n 2,\n 2,\n 2,\n 8,\n 8,\n 2,\n 2,\n 2,\n 2,\n 2,\n 6,\n 6,\n 6,\n 6,\n 6,\n 6,\n 6,\n 0,\n 8,\n 8,\n 8,\n 8,\n 8,\n 5,\n 5,\n 6,\n 6,\n 1,\n 1,\n 1,\n 1,\n 1,\n 1,\n 1,\n 1,\n 1,\n 1,\n 5,\n 5,\n 5,\n 5,\n 5,\n 0,\n 0,\n 0,\n 0,\n 0,\n 0,\n 0,\n 0,\n 9,\n 4,\n 4,\n 4,\n 4,\n 3,\n 3,\n 3,\n 3,\n 6,\n 6,\n 6,\n 6,\n 6,\n 4,\n 5,\n 5,\n 5,\n 8,\n 8,\n 6,\n 6,\n 7,\n 7,\n 7,\n 0,\n 0,\n 0,\n 0,\n 0,\n 0,\n 1,\n 1,\n 1,\n 1,\n 1,\n 1,\n 1,\n 1,\n 3,\n 3,\n 3,\n 1,\n 1,\n 8,\n 8,\n 7,\n 7,\n 7,\n 7,\n 5,\n 5,\n 5,\n 9,\n 8,\n 8,\n 8,\n 8,\n 8,\n 4,\n 4,\n 0,\n 0,\n 0,\n 4,\n 4,\n 2,\n 2,\n 2,\n 2,\n 2,\n 2,\n 2,\n 2,\n 2,\n 2,\n 2,\n 2,\n 2,\n 2,\n 2,\n 2,\n 2,\n 2,\n 2,\n 2,\n 2,\n 2,\n 2,\n 2,\n 2,\n 2,\n 2,\n 2,\n 2,\n 2,\n 2,\n 2,\n 2,\n 4,\n 4,\n 7,\n 7,\n 6,\n 7,\n 7,\n 7,\n 8,\n 8,\n 4,\n 4,\n 4,\n 4,\n 4,\n 4,\n 7,\n 7,\n 7,\n 7,\n 9,\n 2,\n 2,\n 2,\n 2,\n 2,\n 4,\n 4,\n 4,\n 4,\n 4,\n 4,\n 4,\n 3,\n 3,\n 3,\n 2,\n 2,\n 7,\n 7,\n 3,\n 3,\n 3,\n 3,\n 3,\n 3,\n 3,\n 3,\n 3,\n 3,\n 3,\n 0,\n 0,\n 0,\n 3,\n 3,\n 3,\n 3,\n 3,\n 3,\n 3,\n 1,\n 3,\n 1,\n 1,\n 2,\n 2,\n 2,\n 2,\n 4,\n 4,\n 4,\n 4,\n 4,\n 4,\n 2,\n 2,\n 2,\n 2,\n 1,\n 1,\n 1,\n 1,\n 1,\n 1,\n 1,\n 1,\n 1,\n 1,\n 4,\n 4,\n 4,\n 1,\n 1,\n 1,\n 1,\n 1,\n 1,\n ...]"
     },
     "execution_count": 7,
     "metadata": {},
     "output_type": "execute_result"
    }
   ],
   "source": [
    "hash_Violence"
   ],
   "metadata": {
    "collapsed": false,
    "ExecuteTime": {
     "end_time": "2024-04-11T08:15:18.901076100Z",
     "start_time": "2024-04-11T08:15:18.897370700Z"
    }
   },
   "id": "dd16b09c41f8c628",
   "execution_count": 7
  },
  {
   "cell_type": "code",
   "outputs": [],
   "source": [
    "import os\n",
    "import csv\n",
    "\n",
    "def create_csv_files(violence_dir, not_violence_dir, train_csv_path, test_csv_path):\n",
    "    # Считываем имена файлов из директорий\n",
    "    file_names_Violence = os.listdir(violence_dir)\n",
    "    file_names_NotViolence = os.listdir(not_violence_dir)\n",
    "\n",
    "    # Получаем имена видео без номера трека\n",
    "    video_names_Violence = [file_name.split(\"__track\")[0] for file_name in file_names_Violence]\n",
    "    video_names_NotViolence = [file_name.split(\"__track\")[0] for file_name in file_names_NotViolence]\n",
    "\n",
    "    # Генерируем хэши для видео и определяем их валидацию/тренировочные\n",
    "    hash_Violence = [hash(name) % 10 for name in video_names_Violence]\n",
    "    hash_NotViolence = [hash(name) % 10 for name in video_names_NotViolence]\n",
    "\n",
    "    # Создаём списки файлов для тренировочного и тестового наборов\n",
    "    train_data = []\n",
    "    test_data = []\n",
    "\n",
    "    # Собираем данные для тренировочного и тестового наборов\n",
    "    for name, hash_value in zip(video_names_Violence, hash_Violence):\n",
    "        label = \"violence\"\n",
    "        path = os.path.join(violence_dir, name)\n",
    "        if hash_value < 3:\n",
    "            test_data.append({\"label\": label, \"path\": path})\n",
    "        else:\n",
    "            train_data.append({\"label\": label, \"path\": path})\n",
    "\n",
    "    for name, hash_value in zip(video_names_NotViolence, hash_NotViolence):\n",
    "        label = \"not_violence\"\n",
    "        path = os.path.join(not_violence_dir, name)\n",
    "        if hash_value < 3:\n",
    "            test_data.append({\"label\": label, \"path\": path})\n",
    "        else:\n",
    "            train_data.append({\"label\": label, \"path\": path})\n",
    "\n",
    "    # Записываем данные в CSV файлы\n",
    "    with open(train_csv_path, \"w\", newline=\"\") as train_csv_file:\n",
    "        writer = csv.DictWriter(train_csv_file, fieldnames=[\"label\", \"path\"])\n",
    "        writer.writeheader()\n",
    "        writer.writerows(train_data)\n",
    "\n",
    "    with open(test_csv_path, \"w\", newline=\"\") as test_csv_file:\n",
    "        writer = csv.DictWriter(test_csv_file, fieldnames=[\"label\", \"path\"])\n",
    "        writer.writeheader()\n",
    "        writer.writerows(test_data)\n",
    "\n",
    "# Пример использования\n",
    "create_csv_files(\"papkahuyapka/Violence\", \"papkahuyapka/NotViolence\", \"train.csv\", \"test.csv\")\n"
   ],
   "metadata": {
    "collapsed": false,
    "ExecuteTime": {
     "end_time": "2024-04-11T08:23:59.489249600Z",
     "start_time": "2024-04-11T08:23:59.463035100Z"
    }
   },
   "id": "cbec0088273556d3",
   "execution_count": 8
  },
  {
   "cell_type": "code",
   "outputs": [],
   "source": [
    "import os\n",
    "import pandas as pd\n",
    "\n",
    "# Функция для создания CSV файла\n",
    "def create_csv(label, paths, filename):\n",
    "    df = pd.DataFrame({'label': label, 'path': paths})\n",
    "    df.to_csv(filename, index=False)\n",
    "\n",
    "# Пути к папкам с видео\n",
    "violence_folder = \"papkahuyapka/Violence\"\n",
    "not_violence_folder = \"papkahuyapka/NotViolence\"\n",
    "\n",
    "# Получаем список файлов\n",
    "violence_files = os.listdir(violence_folder)\n",
    "not_violence_files = os.listdir(not_violence_folder)\n",
    "\n",
    "# Получаем имена файлов без расширения и номера трека\n",
    "video_names_Violence = [file_name.split(\"__track\")[0] for file_name in violence_files]\n",
    "video_names_NotViolence = [file_name.split(\"__track\")[0] for file_name in not_violence_files]\n",
    "\n",
    "# Вычисляем хэши для разделения на трейн и тест\n",
    "hash_Violence = [hash(name) % 10 for name in video_names_Violence]\n",
    "hash_NotViolence = [hash(name) % 10 for name in video_names_NotViolence]\n",
    "\n",
    "# Разделяем на трейн и тест\n",
    "train_violence = []\n",
    "train_not_violence = []\n",
    "test_violence = []\n",
    "test_not_violence = []\n",
    "\n",
    "for i, filename in enumerate(violence_files):\n",
    "    if hash_Violence[i] < 2:\n",
    "        test_violence.append(os.path.join(violence_folder, filename))\n",
    "    else:\n",
    "        train_violence.append(os.path.join(violence_folder, filename))\n",
    "\n",
    "for i, filename in enumerate(not_violence_files):\n",
    "    if hash_NotViolence[i] < 2:\n",
    "        test_not_violence.append(os.path.join(not_violence_folder, filename))\n",
    "    else:\n",
    "        train_not_violence.append(os.path.join(not_violence_folder, filename))\n",
    "\n",
    "# Создаем CSV файлы\n",
    "create_csv(['violence'] * len(train_violence), train_violence, 'train.csv')\n",
    "create_csv(['violence'] * len(test_violence), test_violence, 'test.csv')\n",
    "create_csv(['not_violence'] * len(train_not_violence), train_not_violence, 'train.csv')\n",
    "create_csv(['not_violence'] * len(test_not_violence), test_not_violence, 'test.csv')\n"
   ],
   "metadata": {
    "collapsed": false,
    "ExecuteTime": {
     "end_time": "2024-04-11T08:26:26.964390100Z",
     "start_time": "2024-04-11T08:26:26.936858200Z"
    }
   },
   "id": "90070f8bf5317781",
   "execution_count": 10
  },
  {
   "cell_type": "code",
   "outputs": [],
   "source": [
    "import os\n",
    "import pandas as pd\n",
    "\n",
    "def create_csv(label, paths, filename):\n",
    "    df = pd.DataFrame({'label': label, 'path': paths})\n",
    "    df.to_csv(filename, mode='a', index=False, header=not os.path.exists(filename))\n",
    "\n",
    "violence_folder = \"papkahuyapka/Violence\"\n",
    "not_violence_folder = \"papkahuyapka/NotViolence\"\n",
    "\n",
    "violence_files = os.listdir(violence_folder)\n",
    "not_violence_files = os.listdir(not_violence_folder)\n",
    "\n",
    "video_names_Violence = [file_name.split(\"__track\")[0] for file_name in violence_files]\n",
    "video_names_NotViolence = [file_name.split(\"__track\")[0] for file_name in not_violence_files]\n",
    "\n",
    "hash_Violence = [hash(name) % 100 for name in video_names_Violence]\n",
    "hash_NotViolence = [hash(name) % 100 for name in video_names_NotViolence]\n",
    "\n",
    "train_violence = []\n",
    "train_not_violence = []\n",
    "test_violence = []\n",
    "test_not_violence = []\n",
    "\n",
    "for i, filename in enumerate(violence_files):\n",
    "    if hash_Violence[i] < 20:\n",
    "        test_violence.append(os.path.join(violence_folder, filename))\n",
    "    else:\n",
    "        train_violence.append(os.path.join(violence_folder, filename))\n",
    "\n",
    "for i, filename in enumerate(not_violence_files):\n",
    "    if hash_NotViolence[i] < 20:\n",
    "        test_not_violence.append(os.path.join(not_violence_folder, filename))\n",
    "    else:\n",
    "        train_not_violence.append(os.path.join(not_violence_folder, filename))\n",
    "if os.path.exists('train.csv'):\n",
    "    os.remove('train.csv')\n",
    "if os.path.exists('test.csv'):\n",
    "    os.remove('test.csv')\n",
    "# Создаем CSV файлы\n",
    "create_csv(['violence'] * len(train_violence), train_violence, 'train.csv')\n",
    "create_csv(['violence'] * len(test_violence), test_violence, 'test.csv')\n",
    "create_csv(['not_violence'] * len(train_not_violence), train_not_violence, 'train.csv')\n",
    "create_csv(['not_violence'] * len(test_not_violence), test_not_violence, 'test.csv')\n"
   ],
   "metadata": {
    "collapsed": false,
    "ExecuteTime": {
     "end_time": "2024-04-11T08:36:07.589953600Z",
     "start_time": "2024-04-11T08:36:07.548664200Z"
    }
   },
   "id": "d6a561fe58ef41d4",
   "execution_count": 6
  },
  {
   "cell_type": "code",
   "outputs": [],
   "source": [
    "import os\n",
    "import pandas as pd\n",
    "\n",
    "def create_csv(label, paths, filename):\n",
    "    df = pd.DataFrame({'label': label, 'path': paths})\n",
    "    df.to_csv(filename, mode='a', index=False, header=not os.path.exists(filename))\n",
    "\n",
    "violence_folder = \"papkahuyapka/Violence\"\n",
    "not_violence_folder = \"papkahuyapka/NotViolence\"\n",
    "\n",
    "violence_files = os.listdir(violence_folder)\n",
    "not_violence_files = os.listdir(not_violence_folder)\n",
    "\n",
    "video_names_Violence = []\n",
    "for file_name in violence_files:\n",
    "    file_name = file_name.split(\"__track\")[0]\n",
    "    if \"fight\" not in file_name and \"_\" in file_name:\n",
    "        file_name = file_name.split(\"_\")[1]\n",
    "    video_names_Violence.append(file_name)\n",
    "\n",
    "video_names_NotViolence = []\n",
    "for file_name in not_violence_files:\n",
    "    file_name = file_name.split(\"__track\")[0]\n",
    "    if \"fight\" not in file_name and \"_\" in file_name:\n",
    "        file_name = file_name.split(\"_\")[1]\n",
    "    video_names_NotViolence.append(file_name)\n",
    "\n",
    "hash_Violence = [hash(name) % 100 for name in video_names_Violence]\n",
    "hash_NotViolence = [hash(name) % 100 for name in video_names_NotViolence]\n",
    "\n",
    "train_violence = []\n",
    "train_not_violence = []\n",
    "test_violence = []\n",
    "test_not_violence = []\n",
    "\n",
    "for i, filename in enumerate(violence_files):\n",
    "    if hash_Violence[i] < 20:\n",
    "        test_violence.append(os.path.join(violence_folder, filename))\n",
    "    else:\n",
    "        train_violence.append(os.path.join(violence_folder, filename))\n",
    "\n",
    "for i, filename in enumerate(not_violence_files):\n",
    "    if hash_NotViolence[i] < 20:\n",
    "        test_not_violence.append(os.path.join(not_violence_folder, filename))\n",
    "    else:\n",
    "        train_not_violence.append(os.path.join(not_violence_folder, filename))\n",
    "if os.path.exists('train.csv'):\n",
    "    os.remove('train.csv')\n",
    "if os.path.exists('test.csv'):\n",
    "    os.remove('test.csv')\n",
    "# Создаем CSV файлы\n",
    "create_csv(['violence'] * len(train_violence), train_violence, 'train.csv')\n",
    "create_csv(['violence'] * len(test_violence), test_violence, 'test.csv')\n",
    "create_csv(['not_violence'] * len(train_not_violence), train_not_violence, 'train.csv')\n",
    "create_csv(['not_violence'] * len(test_not_violence), test_not_violence, 'test.csv')\n"
   ],
   "metadata": {
    "collapsed": false,
    "ExecuteTime": {
     "end_time": "2024-04-21T17:11:24.372593800Z",
     "start_time": "2024-04-21T17:11:23.491211500Z"
    }
   },
   "id": "f047538491f4423b",
   "execution_count": 1
  },
  {
   "cell_type": "code",
   "outputs": [],
   "source": [],
   "metadata": {
    "collapsed": false
   },
   "id": "860b3c1208889b5f"
  }
 ],
 "metadata": {
  "kernelspec": {
   "display_name": "Python 3",
   "language": "python",
   "name": "python3"
  },
  "language_info": {
   "codemirror_mode": {
    "name": "ipython",
    "version": 2
   },
   "file_extension": ".py",
   "mimetype": "text/x-python",
   "name": "python",
   "nbconvert_exporter": "python",
   "pygments_lexer": "ipython2",
   "version": "2.7.6"
  }
 },
 "nbformat": 4,
 "nbformat_minor": 5
}
