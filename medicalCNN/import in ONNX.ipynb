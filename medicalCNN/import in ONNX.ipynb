{
 "cells": [
  {
   "cell_type": "code",
   "execution_count": 1,
   "id": "initial_id",
   "metadata": {
    "collapsed": true,
    "ExecuteTime": {
     "end_time": "2024-04-22T08:31:37.166220700Z",
     "start_time": "2024-04-22T08:31:34.626092700Z"
    }
   },
   "outputs": [],
   "source": [
    "import random\n",
    "\n",
    "import torchvision.models as models\n",
    "import torch.nn as nn\n",
    "import pandas as pd\n",
    "import torch\n",
    "from torch.utils.data import Dataset\n",
    "import cv2\n",
    "import numpy as np\n",
    "from torch.utils.data import DataLoader\n",
    "import torch\n",
    "import torchvision.transforms as transforms\n",
    "from torch.utils.tensorboard import SummaryWriter\n",
    "device = torch.device(\"cuda\" if torch.cuda.is_available() else \"cpu\")\n",
    "\n",
    "import torch\n",
    "import torch.nn as nn\n",
    "import torchvision.models as models\n",
    "from torch.autograd import Variable"
   ]
  },
  {
   "cell_type": "code",
   "outputs": [],
   "source": [
    "from models import MobileNetV2"
   ],
   "metadata": {
    "collapsed": false,
    "ExecuteTime": {
     "end_time": "2024-04-22T08:31:37.183220500Z",
     "start_time": "2024-04-22T08:31:37.167225500Z"
    }
   },
   "id": "38e3b60e9a519da8",
   "execution_count": 2
  },
  {
   "cell_type": "code",
   "outputs": [],
   "source": [
    "IMG_SIZE = 224\n",
    "SEQ_LENGTH = 30\n",
    "name = \"LAST23\""
   ],
   "metadata": {
    "collapsed": false,
    "ExecuteTime": {
     "end_time": "2024-04-22T08:31:37.200224600Z",
     "start_time": "2024-04-22T08:31:37.181222Z"
    }
   },
   "id": "4f98d345ec034139",
   "execution_count": 3
  },
  {
   "cell_type": "code",
   "outputs": [],
   "source": [
    "model = MobileNetV2.get_model(sample_size = IMG_SIZE, num_classes =1, in_channels = SEQ_LENGTH)\n"
   ],
   "metadata": {
    "collapsed": false,
    "ExecuteTime": {
     "end_time": "2024-04-22T08:31:38.418661300Z",
     "start_time": "2024-04-22T08:31:38.381498Z"
    }
   },
   "id": "dbeb5793979d310",
   "execution_count": 4
  },
  {
   "cell_type": "code",
   "outputs": [
    {
     "data": {
      "text/plain": "<All keys matched successfully>"
     },
     "execution_count": 5,
     "metadata": {},
     "output_type": "execute_result"
    }
   ],
   "source": [
    "# model = nn.DataParallel(model)\n",
    "# model = nn.DataParallel(model)\n",
    "#model = model.to(device)\n",
    "model.load_state_dict(torch.load(f'{name}.pth', map_location=torch.device('cpu')))\n"
   ],
   "metadata": {
    "collapsed": false,
    "ExecuteTime": {
     "end_time": "2024-04-22T08:31:38.865768600Z",
     "start_time": "2024-04-22T08:31:38.815768900Z"
    }
   },
   "id": "cb7b2dfd8aa05d2b",
   "execution_count": 5
  },
  {
   "cell_type": "code",
   "outputs": [],
   "source": [
    "#model = model.module.module"
   ],
   "metadata": {
    "collapsed": false,
    "ExecuteTime": {
     "end_time": "2024-04-22T08:31:39.247199900Z",
     "start_time": "2024-04-22T08:31:39.237200Z"
    }
   },
   "id": "d5b1ce54dc12e6d2",
   "execution_count": 6
  },
  {
   "cell_type": "code",
   "outputs": [],
   "source": [
    "input_tensor = Variable(torch.randn(64,30,1, 224, 224))"
   ],
   "metadata": {
    "collapsed": false,
    "ExecuteTime": {
     "end_time": "2024-04-22T08:31:40.053170200Z",
     "start_time": "2024-04-22T08:31:39.607250900Z"
    }
   },
   "id": "c044fed9898cccf8",
   "execution_count": 7
  },
  {
   "cell_type": "code",
   "outputs": [],
   "source": [
    "model = model.to('cpu')"
   ],
   "metadata": {
    "collapsed": false,
    "ExecuteTime": {
     "end_time": "2024-04-22T08:31:40.069170500Z",
     "start_time": "2024-04-22T08:31:40.054170600Z"
    }
   },
   "id": "77b3d455fa6d5365",
   "execution_count": 8
  },
  {
   "cell_type": "code",
   "outputs": [
    {
     "data": {
      "text/plain": "MobileNetV2(\n  (features): Sequential(\n    (0): Sequential(\n      (0): Conv3d(30, 32, kernel_size=(3, 3, 3), stride=(1, 2, 2), padding=(1, 1, 1), bias=False)\n      (1): BatchNorm3d(32, eps=1e-05, momentum=0.1, affine=True, track_running_stats=True)\n      (2): ReLU6(inplace=True)\n    )\n    (1): InvertedResidual(\n      (conv): Sequential(\n        (0): Conv3d(32, 32, kernel_size=(3, 3, 3), stride=(1, 1, 1), padding=(1, 1, 1), groups=32, bias=False)\n        (1): BatchNorm3d(32, eps=1e-05, momentum=0.1, affine=True, track_running_stats=True)\n        (2): ReLU6(inplace=True)\n        (3): Conv3d(32, 16, kernel_size=(1, 1, 1), stride=(1, 1, 1), bias=False)\n        (4): BatchNorm3d(16, eps=1e-05, momentum=0.1, affine=True, track_running_stats=True)\n      )\n    )\n    (2): InvertedResidual(\n      (conv): Sequential(\n        (0): Conv3d(16, 96, kernel_size=(1, 1, 1), stride=(1, 1, 1), bias=False)\n        (1): BatchNorm3d(96, eps=1e-05, momentum=0.1, affine=True, track_running_stats=True)\n        (2): ReLU6(inplace=True)\n        (3): Conv3d(96, 96, kernel_size=(3, 3, 3), stride=(2, 2, 2), padding=(1, 1, 1), groups=96, bias=False)\n        (4): BatchNorm3d(96, eps=1e-05, momentum=0.1, affine=True, track_running_stats=True)\n        (5): ReLU6(inplace=True)\n        (6): Conv3d(96, 24, kernel_size=(1, 1, 1), stride=(1, 1, 1), bias=False)\n        (7): BatchNorm3d(24, eps=1e-05, momentum=0.1, affine=True, track_running_stats=True)\n      )\n    )\n    (3): InvertedResidual(\n      (conv): Sequential(\n        (0): Conv3d(24, 144, kernel_size=(1, 1, 1), stride=(1, 1, 1), bias=False)\n        (1): BatchNorm3d(144, eps=1e-05, momentum=0.1, affine=True, track_running_stats=True)\n        (2): ReLU6(inplace=True)\n        (3): Conv3d(144, 144, kernel_size=(3, 3, 3), stride=(1, 1, 1), padding=(1, 1, 1), groups=144, bias=False)\n        (4): BatchNorm3d(144, eps=1e-05, momentum=0.1, affine=True, track_running_stats=True)\n        (5): ReLU6(inplace=True)\n        (6): Conv3d(144, 24, kernel_size=(1, 1, 1), stride=(1, 1, 1), bias=False)\n        (7): BatchNorm3d(24, eps=1e-05, momentum=0.1, affine=True, track_running_stats=True)\n      )\n    )\n    (4): InvertedResidual(\n      (conv): Sequential(\n        (0): Conv3d(24, 144, kernel_size=(1, 1, 1), stride=(1, 1, 1), bias=False)\n        (1): BatchNorm3d(144, eps=1e-05, momentum=0.1, affine=True, track_running_stats=True)\n        (2): ReLU6(inplace=True)\n        (3): Conv3d(144, 144, kernel_size=(3, 3, 3), stride=(2, 2, 2), padding=(1, 1, 1), groups=144, bias=False)\n        (4): BatchNorm3d(144, eps=1e-05, momentum=0.1, affine=True, track_running_stats=True)\n        (5): ReLU6(inplace=True)\n        (6): Conv3d(144, 32, kernel_size=(1, 1, 1), stride=(1, 1, 1), bias=False)\n        (7): BatchNorm3d(32, eps=1e-05, momentum=0.1, affine=True, track_running_stats=True)\n      )\n    )\n    (5): InvertedResidual(\n      (conv): Sequential(\n        (0): Conv3d(32, 192, kernel_size=(1, 1, 1), stride=(1, 1, 1), bias=False)\n        (1): BatchNorm3d(192, eps=1e-05, momentum=0.1, affine=True, track_running_stats=True)\n        (2): ReLU6(inplace=True)\n        (3): Conv3d(192, 192, kernel_size=(3, 3, 3), stride=(1, 1, 1), padding=(1, 1, 1), groups=192, bias=False)\n        (4): BatchNorm3d(192, eps=1e-05, momentum=0.1, affine=True, track_running_stats=True)\n        (5): ReLU6(inplace=True)\n        (6): Conv3d(192, 32, kernel_size=(1, 1, 1), stride=(1, 1, 1), bias=False)\n        (7): BatchNorm3d(32, eps=1e-05, momentum=0.1, affine=True, track_running_stats=True)\n      )\n    )\n    (6): InvertedResidual(\n      (conv): Sequential(\n        (0): Conv3d(32, 192, kernel_size=(1, 1, 1), stride=(1, 1, 1), bias=False)\n        (1): BatchNorm3d(192, eps=1e-05, momentum=0.1, affine=True, track_running_stats=True)\n        (2): ReLU6(inplace=True)\n        (3): Conv3d(192, 192, kernel_size=(3, 3, 3), stride=(1, 1, 1), padding=(1, 1, 1), groups=192, bias=False)\n        (4): BatchNorm3d(192, eps=1e-05, momentum=0.1, affine=True, track_running_stats=True)\n        (5): ReLU6(inplace=True)\n        (6): Conv3d(192, 32, kernel_size=(1, 1, 1), stride=(1, 1, 1), bias=False)\n        (7): BatchNorm3d(32, eps=1e-05, momentum=0.1, affine=True, track_running_stats=True)\n      )\n    )\n    (7): InvertedResidual(\n      (conv): Sequential(\n        (0): Conv3d(32, 192, kernel_size=(1, 1, 1), stride=(1, 1, 1), bias=False)\n        (1): BatchNorm3d(192, eps=1e-05, momentum=0.1, affine=True, track_running_stats=True)\n        (2): ReLU6(inplace=True)\n        (3): Conv3d(192, 192, kernel_size=(3, 3, 3), stride=(2, 2, 2), padding=(1, 1, 1), groups=192, bias=False)\n        (4): BatchNorm3d(192, eps=1e-05, momentum=0.1, affine=True, track_running_stats=True)\n        (5): ReLU6(inplace=True)\n        (6): Conv3d(192, 64, kernel_size=(1, 1, 1), stride=(1, 1, 1), bias=False)\n        (7): BatchNorm3d(64, eps=1e-05, momentum=0.1, affine=True, track_running_stats=True)\n      )\n    )\n    (8): InvertedResidual(\n      (conv): Sequential(\n        (0): Conv3d(64, 384, kernel_size=(1, 1, 1), stride=(1, 1, 1), bias=False)\n        (1): BatchNorm3d(384, eps=1e-05, momentum=0.1, affine=True, track_running_stats=True)\n        (2): ReLU6(inplace=True)\n        (3): Conv3d(384, 384, kernel_size=(3, 3, 3), stride=(1, 1, 1), padding=(1, 1, 1), groups=384, bias=False)\n        (4): BatchNorm3d(384, eps=1e-05, momentum=0.1, affine=True, track_running_stats=True)\n        (5): ReLU6(inplace=True)\n        (6): Conv3d(384, 64, kernel_size=(1, 1, 1), stride=(1, 1, 1), bias=False)\n        (7): BatchNorm3d(64, eps=1e-05, momentum=0.1, affine=True, track_running_stats=True)\n      )\n    )\n    (9): InvertedResidual(\n      (conv): Sequential(\n        (0): Conv3d(64, 384, kernel_size=(1, 1, 1), stride=(1, 1, 1), bias=False)\n        (1): BatchNorm3d(384, eps=1e-05, momentum=0.1, affine=True, track_running_stats=True)\n        (2): ReLU6(inplace=True)\n        (3): Conv3d(384, 384, kernel_size=(3, 3, 3), stride=(1, 1, 1), padding=(1, 1, 1), groups=384, bias=False)\n        (4): BatchNorm3d(384, eps=1e-05, momentum=0.1, affine=True, track_running_stats=True)\n        (5): ReLU6(inplace=True)\n        (6): Conv3d(384, 64, kernel_size=(1, 1, 1), stride=(1, 1, 1), bias=False)\n        (7): BatchNorm3d(64, eps=1e-05, momentum=0.1, affine=True, track_running_stats=True)\n      )\n    )\n    (10): InvertedResidual(\n      (conv): Sequential(\n        (0): Conv3d(64, 384, kernel_size=(1, 1, 1), stride=(1, 1, 1), bias=False)\n        (1): BatchNorm3d(384, eps=1e-05, momentum=0.1, affine=True, track_running_stats=True)\n        (2): ReLU6(inplace=True)\n        (3): Conv3d(384, 384, kernel_size=(3, 3, 3), stride=(1, 1, 1), padding=(1, 1, 1), groups=384, bias=False)\n        (4): BatchNorm3d(384, eps=1e-05, momentum=0.1, affine=True, track_running_stats=True)\n        (5): ReLU6(inplace=True)\n        (6): Conv3d(384, 64, kernel_size=(1, 1, 1), stride=(1, 1, 1), bias=False)\n        (7): BatchNorm3d(64, eps=1e-05, momentum=0.1, affine=True, track_running_stats=True)\n      )\n    )\n    (11): InvertedResidual(\n      (conv): Sequential(\n        (0): Conv3d(64, 384, kernel_size=(1, 1, 1), stride=(1, 1, 1), bias=False)\n        (1): BatchNorm3d(384, eps=1e-05, momentum=0.1, affine=True, track_running_stats=True)\n        (2): ReLU6(inplace=True)\n        (3): Conv3d(384, 384, kernel_size=(3, 3, 3), stride=(1, 1, 1), padding=(1, 1, 1), groups=384, bias=False)\n        (4): BatchNorm3d(384, eps=1e-05, momentum=0.1, affine=True, track_running_stats=True)\n        (5): ReLU6(inplace=True)\n        (6): Conv3d(384, 96, kernel_size=(1, 1, 1), stride=(1, 1, 1), bias=False)\n        (7): BatchNorm3d(96, eps=1e-05, momentum=0.1, affine=True, track_running_stats=True)\n      )\n    )\n    (12): InvertedResidual(\n      (conv): Sequential(\n        (0): Conv3d(96, 576, kernel_size=(1, 1, 1), stride=(1, 1, 1), bias=False)\n        (1): BatchNorm3d(576, eps=1e-05, momentum=0.1, affine=True, track_running_stats=True)\n        (2): ReLU6(inplace=True)\n        (3): Conv3d(576, 576, kernel_size=(3, 3, 3), stride=(1, 1, 1), padding=(1, 1, 1), groups=576, bias=False)\n        (4): BatchNorm3d(576, eps=1e-05, momentum=0.1, affine=True, track_running_stats=True)\n        (5): ReLU6(inplace=True)\n        (6): Conv3d(576, 96, kernel_size=(1, 1, 1), stride=(1, 1, 1), bias=False)\n        (7): BatchNorm3d(96, eps=1e-05, momentum=0.1, affine=True, track_running_stats=True)\n      )\n    )\n    (13): InvertedResidual(\n      (conv): Sequential(\n        (0): Conv3d(96, 576, kernel_size=(1, 1, 1), stride=(1, 1, 1), bias=False)\n        (1): BatchNorm3d(576, eps=1e-05, momentum=0.1, affine=True, track_running_stats=True)\n        (2): ReLU6(inplace=True)\n        (3): Conv3d(576, 576, kernel_size=(3, 3, 3), stride=(1, 1, 1), padding=(1, 1, 1), groups=576, bias=False)\n        (4): BatchNorm3d(576, eps=1e-05, momentum=0.1, affine=True, track_running_stats=True)\n        (5): ReLU6(inplace=True)\n        (6): Conv3d(576, 96, kernel_size=(1, 1, 1), stride=(1, 1, 1), bias=False)\n        (7): BatchNorm3d(96, eps=1e-05, momentum=0.1, affine=True, track_running_stats=True)\n      )\n    )\n    (14): InvertedResidual(\n      (conv): Sequential(\n        (0): Conv3d(96, 576, kernel_size=(1, 1, 1), stride=(1, 1, 1), bias=False)\n        (1): BatchNorm3d(576, eps=1e-05, momentum=0.1, affine=True, track_running_stats=True)\n        (2): ReLU6(inplace=True)\n        (3): Conv3d(576, 576, kernel_size=(3, 3, 3), stride=(2, 2, 2), padding=(1, 1, 1), groups=576, bias=False)\n        (4): BatchNorm3d(576, eps=1e-05, momentum=0.1, affine=True, track_running_stats=True)\n        (5): ReLU6(inplace=True)\n        (6): Conv3d(576, 160, kernel_size=(1, 1, 1), stride=(1, 1, 1), bias=False)\n        (7): BatchNorm3d(160, eps=1e-05, momentum=0.1, affine=True, track_running_stats=True)\n      )\n    )\n    (15): InvertedResidual(\n      (conv): Sequential(\n        (0): Conv3d(160, 960, kernel_size=(1, 1, 1), stride=(1, 1, 1), bias=False)\n        (1): BatchNorm3d(960, eps=1e-05, momentum=0.1, affine=True, track_running_stats=True)\n        (2): ReLU6(inplace=True)\n        (3): Conv3d(960, 960, kernel_size=(3, 3, 3), stride=(1, 1, 1), padding=(1, 1, 1), groups=960, bias=False)\n        (4): BatchNorm3d(960, eps=1e-05, momentum=0.1, affine=True, track_running_stats=True)\n        (5): ReLU6(inplace=True)\n        (6): Conv3d(960, 160, kernel_size=(1, 1, 1), stride=(1, 1, 1), bias=False)\n        (7): BatchNorm3d(160, eps=1e-05, momentum=0.1, affine=True, track_running_stats=True)\n      )\n    )\n    (16): InvertedResidual(\n      (conv): Sequential(\n        (0): Conv3d(160, 960, kernel_size=(1, 1, 1), stride=(1, 1, 1), bias=False)\n        (1): BatchNorm3d(960, eps=1e-05, momentum=0.1, affine=True, track_running_stats=True)\n        (2): ReLU6(inplace=True)\n        (3): Conv3d(960, 960, kernel_size=(3, 3, 3), stride=(1, 1, 1), padding=(1, 1, 1), groups=960, bias=False)\n        (4): BatchNorm3d(960, eps=1e-05, momentum=0.1, affine=True, track_running_stats=True)\n        (5): ReLU6(inplace=True)\n        (6): Conv3d(960, 160, kernel_size=(1, 1, 1), stride=(1, 1, 1), bias=False)\n        (7): BatchNorm3d(160, eps=1e-05, momentum=0.1, affine=True, track_running_stats=True)\n      )\n    )\n    (17): InvertedResidual(\n      (conv): Sequential(\n        (0): Conv3d(160, 960, kernel_size=(1, 1, 1), stride=(1, 1, 1), bias=False)\n        (1): BatchNorm3d(960, eps=1e-05, momentum=0.1, affine=True, track_running_stats=True)\n        (2): ReLU6(inplace=True)\n        (3): Conv3d(960, 960, kernel_size=(3, 3, 3), stride=(1, 1, 1), padding=(1, 1, 1), groups=960, bias=False)\n        (4): BatchNorm3d(960, eps=1e-05, momentum=0.1, affine=True, track_running_stats=True)\n        (5): ReLU6(inplace=True)\n        (6): Conv3d(960, 320, kernel_size=(1, 1, 1), stride=(1, 1, 1), bias=False)\n        (7): BatchNorm3d(320, eps=1e-05, momentum=0.1, affine=True, track_running_stats=True)\n      )\n    )\n    (18): Sequential(\n      (0): Conv3d(320, 1280, kernel_size=(1, 1, 1), stride=(1, 1, 1), bias=False)\n      (1): BatchNorm3d(1280, eps=1e-05, momentum=0.1, affine=True, track_running_stats=True)\n      (2): ReLU6(inplace=True)\n    )\n  )\n  (classifier): Sequential(\n    (0): Dropout(p=0.2, inplace=False)\n    (1): Linear(in_features=1280, out_features=1, bias=True)\n    (2): Sigmoid()\n  )\n)"
     },
     "execution_count": 9,
     "metadata": {},
     "output_type": "execute_result"
    }
   ],
   "source": [
    "model.eval()"
   ],
   "metadata": {
    "collapsed": false,
    "ExecuteTime": {
     "end_time": "2024-04-22T08:31:40.560734500Z",
     "start_time": "2024-04-22T08:31:40.539735Z"
    }
   },
   "id": "897b835e4a8d7893",
   "execution_count": 9
  },
  {
   "cell_type": "code",
   "outputs": [],
   "source": [
    "with torch.no_grad():\n",
    "    output = model(input_tensor)\n",
    "\n",
    "# Сохранение модели в ONNX\n",
    "torch.onnx.export(model,                 # Модель\n",
    "                  input_tensor,         # Пример входного тензора\n",
    "                  \"model.onnx\",        # Путь для сохранения ONNX файла\n",
    "                  verbose=True,        # Печать дополнительной информации\n",
    "                  input_names=['input'],# Названия входных узлов\n",
    "                  output_names=['output']) # Названия выходных узлов"
   ],
   "metadata": {
    "collapsed": false,
    "ExecuteTime": {
     "end_time": "2024-04-22T08:31:43.428754400Z",
     "start_time": "2024-04-22T08:31:41.006799200Z"
    }
   },
   "id": "5e4b0271e4d0e00a",
   "execution_count": 10
  },
  {
   "cell_type": "code",
   "outputs": [],
   "source": [],
   "metadata": {
    "collapsed": false
   },
   "id": "aa3037d5e47a95c8"
  }
 ],
 "metadata": {
  "kernelspec": {
   "display_name": "Python 3",
   "language": "python",
   "name": "python3"
  },
  "language_info": {
   "codemirror_mode": {
    "name": "ipython",
    "version": 2
   },
   "file_extension": ".py",
   "mimetype": "text/x-python",
   "name": "python",
   "nbconvert_exporter": "python",
   "pygments_lexer": "ipython2",
   "version": "2.7.6"
  }
 },
 "nbformat": 4,
 "nbformat_minor": 5
}
