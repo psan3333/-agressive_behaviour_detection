{
 "cells": [
  {
   "cell_type": "code",
   "execution_count": 1,
   "metadata": {
    "ExecuteTime": {
     "end_time": "2024-02-27T11:31:23.777869400Z",
     "start_time": "2024-02-27T11:31:18.934126200Z"
    }
   },
   "outputs": [
    {
     "name": "stdout",
     "output_type": "stream",
     "text": [
      "cuda\n"
     ]
    },
    {
     "name": "stderr",
     "output_type": "stream",
     "text": [
      "/opt/conda/lib/python3.10/site-packages/torchvision/io/image.py:13: UserWarning: Failed to load image Python extension: '/opt/conda/lib/python3.10/site-packages/torchvision/image.so: undefined symbol: _ZN3c1017RegisterOperatorsD1Ev'If you don't plan on using image functionality from `torchvision.io`, you can ignore this warning. Otherwise, there might be something wrong with your environment. Did you have `libjpeg` or `libpng` installed before building `torchvision` from source?\n",
      "  warn(\n"
     ]
    }
   ],
   "source": [
    "import os\n",
    "import random\n",
    "from PIL import Image\n",
    "import numpy as np\n",
    "from torch.utils.data import DataLoader, Dataset\n",
    "import torch\n",
    "device = torch.device(\"cuda\" if torch.cuda.is_available() else \"cpu\")\n",
    "print(device)\n",
    "import segmentation_models_pytorch as smp\n",
    "import torch.nn as nn\n",
    "import torch.optim as optim\n",
    "import torchvision.transforms as transforms\n",
    "import torchvision.transforms.functional as F\n",
    "import os\n",
    "import albumentations as A\n"
   ]
  },
  {
   "cell_type": "code",
   "execution_count": 2,
   "metadata": {
    "ExecuteTime": {
     "end_time": "2024-02-27T11:31:23.793848Z",
     "start_time": "2024-02-27T11:31:23.779129800Z"
    },
    "collapsed": false,
    "jupyter": {
     "outputs_hidden": false
    }
   },
   "outputs": [],
   "source": [
    "#path\n",
    "#train\n",
    "train_image = \"data/train/\"\n",
    "train_labels = \"data/train_labels\"\n",
    "#test\n",
    "test_image = \"data/test\"\n",
    "test_labels = \"data/test_labels\"\n",
    "#val\n",
    "val_image = \"data/val\"\n",
    "val_labels = \"data/val_labels\""
   ]
  },
  {
   "cell_type": "code",
   "execution_count": 3,
   "metadata": {},
   "outputs": [
    {
     "name": "stdout",
     "output_type": "stream",
     "text": [
      "True\n"
     ]
    }
   ],
   "source": [
    "file_list1 = os.listdir(train_image)\n",
    "file_list2 = os.listdir(train_labels)\n",
    "file_list1 = [i.split(\".\")[0] for i in file_list1]\n",
    "file_list2 = [i.split(\".\")[0] for i in file_list2]\n",
    "print(file_list1 == file_list2)"
   ]
  },
  {
   "cell_type": "code",
   "execution_count": 4,
   "metadata": {},
   "outputs": [
    {
     "name": "stdout",
     "output_type": "stream",
     "text": [
      "True\n"
     ]
    }
   ],
   "source": [
    "file_list1 = os.listdir(val_image)\n",
    "file_list2 = os.listdir(val_labels)\n",
    "file_list1 = [i.split(\".\")[0] for i in file_list1]\n",
    "file_list2 = [i.split(\".\")[0] for i in file_list2]\n",
    "print(file_list1 == file_list2)"
   ]
  },
  {
   "cell_type": "code",
   "execution_count": 5,
   "metadata": {
    "ExecuteTime": {
     "end_time": "2024-02-27T11:31:25.402882800Z",
     "start_time": "2024-02-27T11:31:23.811658500Z"
    },
    "collapsed": false,
    "jupyter": {
     "outputs_hidden": false
    }
   },
   "outputs": [
    {
     "name": "stdout",
     "output_type": "stream",
     "text": [
      "Class 0 weight: 0.5488591497566798\n",
      "Class 255 weight: 0.4511408502433202\n"
     ]
    }
   ],
   "source": [
    "from PIL import Image\n",
    "import os\n",
    "\n",
    "path = train_image\n",
    "\n",
    "class_0_count = 0\n",
    "class_255_count = 0\n",
    "\n",
    "i = 0\n",
    "for filename in os.listdir(path):\n",
    "    i+= 1\n",
    "    if i == 1000:\n",
    "        break\n",
    "    with Image.open(os.path.join(path, filename)) as img:\n",
    "        class_0_count += img.getchannel(0).getcolors()[0][0]\n",
    "        class_255_count += img.getchannel(0).getcolors()[1][0]\n",
    "\n",
    "total_count = class_0_count + class_255_count\n",
    "class_0_weight = class_0_count / total_count\n",
    "class_255_weight = class_255_count / total_count\n",
    "\n",
    "print(f\"Class 0 weight: {class_0_weight}\")\n",
    "print(f\"Class 255 weight: {class_255_weight}\")\n",
    "weight = [class_0_weight, class_255_weight]"
   ]
  },
  {
   "cell_type": "code",
   "execution_count": 6,
   "metadata": {},
   "outputs": [
    {
     "data": {
      "text/plain": [
       "True"
      ]
     },
     "execution_count": 6,
     "metadata": {},
     "output_type": "execute_result"
    }
   ],
   "source": [
    "sorted([filename.split(\".\")[0] for filename in os.listdir(train_image)]) == sorted([filename.split(\".\")[0] for filename in os.listdir(train_labels)])\n"
   ]
  },
  {
   "cell_type": "code",
   "execution_count": 7,
   "metadata": {
    "ExecuteTime": {
     "end_time": "2024-02-27T11:32:14.826576700Z",
     "start_time": "2024-02-27T11:32:14.665124700Z"
    },
    "collapsed": false,
    "jupyter": {
     "outputs_hidden": false
    }
   },
   "outputs": [],
   "source": [
    "ds_images = []\n",
    "ds_lables = []"
   ]
  },
  {
   "cell_type": "code",
   "execution_count": 8,
   "metadata": {
    "ExecuteTime": {
     "end_time": "2024-02-27T11:34:34.499696Z",
     "start_time": "2024-02-27T11:32:15.415690300Z"
    },
    "collapsed": false,
    "jupyter": {
     "outputs_hidden": false
    }
   },
   "outputs": [
    {
     "name": "stdout",
     "output_type": "stream",
     "text": [
      "1000\n",
      "2000\n",
      "3000\n",
      "4000\n",
      "5000\n",
      "6000\n",
      "7000\n",
      "8000\n",
      "9000\n",
      "10000\n",
      "11000\n",
      "12000\n",
      "13000\n",
      "14000\n",
      "15000\n",
      "16000\n",
      "17000\n",
      "18000\n",
      "19000\n",
      "20000\n",
      "21000\n",
      "22000\n",
      "23000\n"
     ]
    }
   ],
   "source": [
    "listdir_train_image = sorted(os.listdir(train_image))\n",
    "j = 0\n",
    "for i in listdir_train_image:\n",
    "    j+=1\n",
    "    if j % 1000 == 0:\n",
    "        print(j)\n",
    "        #break\n",
    "\n",
    "    ds_images.append(Image.open(os.path.join(train_image, i)).convert(\"RGB\"))"
   ]
  },
  {
   "cell_type": "code",
   "execution_count": 9,
   "metadata": {
    "ExecuteTime": {
     "end_time": "2024-02-27T11:36:49.965000600Z",
     "start_time": "2024-02-27T11:35:03.841722300Z"
    },
    "collapsed": false,
    "jupyter": {
     "outputs_hidden": false
    }
   },
   "outputs": [
    {
     "name": "stdout",
     "output_type": "stream",
     "text": [
      "1000\n",
      "2000\n",
      "3000\n",
      "4000\n",
      "5000\n",
      "6000\n",
      "7000\n",
      "8000\n",
      "9000\n",
      "10000\n",
      "11000\n",
      "12000\n",
      "13000\n",
      "14000\n",
      "15000\n",
      "16000\n",
      "17000\n",
      "18000\n",
      "19000\n",
      "20000\n",
      "21000\n",
      "22000\n",
      "23000\n"
     ]
    }
   ],
   "source": [
    "listdir_train_labels = sorted(os.listdir(train_labels))\n",
    "j = 0\n",
    "for i in listdir_train_labels:\n",
    "    j+=1\n",
    "    if j % 1000 == 0:\n",
    "        print(j)\n",
    "        #break\n",
    "    ds_lables.append(Image.open(os.path.join(train_labels, i)).convert(\"L\"))"
   ]
  },
  {
   "cell_type": "code",
   "execution_count": 10,
   "metadata": {
    "ExecuteTime": {
     "end_time": "2024-02-27T11:37:04.078168200Z",
     "start_time": "2024-02-27T11:37:04.074171800Z"
    },
    "collapsed": false,
    "jupyter": {
     "outputs_hidden": false
    }
   },
   "outputs": [],
   "source": [
    "ds_images_val = []\n",
    "ds_lables_val = []"
   ]
  },
  {
   "cell_type": "code",
   "execution_count": 11,
   "metadata": {
    "ExecuteTime": {
     "end_time": "2024-02-27T11:37:04.756173600Z",
     "start_time": "2024-02-27T11:37:04.494734800Z"
    },
    "collapsed": false,
    "jupyter": {
     "outputs_hidden": false
    }
   },
   "outputs": [],
   "source": [
    "listdir_val_image = sorted(os.listdir(val_image))\n",
    "for i in listdir_val_image:\n",
    "    ds_images_val.append(Image.open(os.path.join(val_image, i)).convert(\"RGB\"))"
   ]
  },
  {
   "cell_type": "code",
   "execution_count": 12,
   "metadata": {
    "ExecuteTime": {
     "end_time": "2024-02-27T11:37:05.440746300Z",
     "start_time": "2024-02-27T11:37:05.288938600Z"
    },
    "collapsed": false,
    "jupyter": {
     "outputs_hidden": false
    }
   },
   "outputs": [],
   "source": [
    "listdir_val_labels = sorted(os.listdir(val_labels))\n",
    "for i in listdir_val_labels:\n",
    "    ds_lables_val.append(Image.open(os.path.join(val_labels, i)).convert(\"L\"))"
   ]
  },
  {
   "cell_type": "code",
   "execution_count": 29,
   "metadata": {
    "ExecuteTime": {
     "end_time": "2024-02-27T11:37:06.831749500Z",
     "start_time": "2024-02-27T11:37:06.792975400Z"
    },
    "collapsed": false,
    "jupyter": {
     "outputs_hidden": false
    }
   },
   "outputs": [],
   "source": [
    "import albumentations as A\n",
    "\n",
    "aug_transform = A.Compose([\n",
    "    A.Downscale(scale_min=0.1, scale_max=0.4, p=1),  # Уменьшение размера изображения\n",
    "    A.GaussNoise(var_limit=(10.0, 50.0), p=0.5),  # Добавление гауссовского шума\n",
    "    A.MedianBlur(blur_limit=7, p=0.5),  # Применение медианного размытия\n",
    "    A.GaussianBlur(blur_limit=7, p=0.5),  # Применение размытия по Гауссу\n",
    "    A.OpticalDistortion(distort_limit=0.3, p=0.5),  # Применение оптического размытия\n",
    "    A.RandomBrightnessContrast(p=0.5),  # Случайное изменение яркости и контрастности\n",
    "    A.RandomShadow(shadow_roi=(0, 0, 0.5, 1), p=0.5),  # Добавление случайных теней\n",
    "    A.ElasticTransform(alpha=120, sigma=120 * 0.05, alpha_affine=120 * 0.03, p=0.5),  # Добавление эластичной дисторсии\n",
    "    A.RandomRain(p=0.5),  # Добавление эффекта дождя\n",
    "    A.RandomSnow(p=0.5)  # Добавление эффекта снега\n",
    "])\n",
    "\n",
    "\n",
    "\n",
    "def transform_and_crop(img, mask, size=256):\n",
    "    \n",
    "    img = img.resize((size, size), resample=Image.BICUBIC)\n",
    "    mask = mask.resize((size, size), resample=Image.NEAREST)\n",
    "    #img, mask = aug_transform(image=img, mask=mask)\n",
    "\n",
    "    img = np.array(img, dtype=np.float32)\n",
    "    mask = np.array(mask, dtype=np.int64)\n",
    "    img = aug_transform(image=img)['image']\n",
    "    # Нормализуем изображение\n",
    "    img = img / 255.0\n",
    "    img = (img - 0.5) / 0.5\n",
    "\n",
    "    mask[mask > 0] = 1\n",
    "    mask[mask == 0] = 0\n",
    "\n",
    "    img = torch.from_numpy(img)\n",
    "    mask = torch.from_numpy(mask)\n",
    "    return img, mask\n"
   ]
  },
  {
   "cell_type": "code",
   "execution_count": 30,
   "metadata": {
    "ExecuteTime": {
     "end_time": "2024-02-27T11:37:07.628797400Z",
     "start_time": "2024-02-27T11:37:07.602704300Z"
    },
    "collapsed": false,
    "jupyter": {
     "outputs_hidden": false
    }
   },
   "outputs": [],
   "source": [
    "class custom_dataset(Dataset):\n",
    "    def __init__(self, images, masks, transform=None):\n",
    "        self.images = images\n",
    "        self.masks = masks\n",
    "        self.transform = transform\n",
    "\n",
    "    def __len__(self):\n",
    "        return len(self.images)\n",
    "\n",
    "    def __getitem__(self, idx):\n",
    "        img = self.images[idx]\n",
    "        mask = self.masks[idx]\n",
    "        if self.transform:\n",
    "            img, mask = self.transform(img, mask)\n",
    "        img = img.permute(2, 0, 1)\n",
    "        #print(img.shape)\n",
    "        return img, mask"
   ]
  },
  {
   "cell_type": "code",
   "execution_count": null,
   "metadata": {
    "ExecuteTime": {
     "end_time": "2024-02-27T11:37:08.048912500Z",
     "start_time": "2024-02-27T11:37:08.037712Z"
    },
    "collapsed": false,
    "jupyter": {
     "outputs_hidden": false
    }
   },
   "outputs": [],
   "source": []
  },
  {
   "cell_type": "code",
   "execution_count": 31,
   "metadata": {
    "ExecuteTime": {
     "end_time": "2024-02-27T11:37:08.296897800Z",
     "start_time": "2024-02-27T11:37:08.287696900Z"
    },
    "collapsed": false,
    "jupyter": {
     "outputs_hidden": false
    }
   },
   "outputs": [],
   "source": [
    "train_dataset = custom_dataset(images=ds_images, masks=ds_lables, transform=transform_and_crop)\n",
    "val_dataset = custom_dataset(images=ds_images_val, masks=ds_lables_val, transform=transform_and_crop)\n",
    "train_dataloader = DataLoader(train_dataset, batch_size=128, shuffle=True, num_workers=10)\n",
    "val_dataloader = DataLoader(val_dataset, batch_size=128, shuffle=False, num_workers=10)   "
   ]
  },
  {
   "cell_type": "code",
   "execution_count": 16,
   "metadata": {
    "ExecuteTime": {
     "end_time": "2024-02-27T11:37:08.544672900Z",
     "start_time": "2024-02-27T11:37:08.542672300Z"
    },
    "collapsed": false,
    "jupyter": {
     "outputs_hidden": false
    }
   },
   "outputs": [],
   "source": [
    "def iou_score(pred, target):\n",
    "    pred_i = (pred == 1).float()\n",
    "    target_i = (target == 1).float()\n",
    "    intersection = (pred_i * target_i).sum()\n",
    "    union = pred_i.sum() + target_i.sum() - intersection\n",
    "    if union == 0:\n",
    "        iou_i = 1\n",
    "    else:\n",
    "        iou_i = intersection / union\n",
    "    return iou_i\n"
   ]
  },
  {
   "cell_type": "code",
   "execution_count": 17,
   "metadata": {
    "ExecuteTime": {
     "end_time": "2024-02-27T11:37:09.595920400Z",
     "start_time": "2024-02-27T11:37:09.003111100Z"
    },
    "collapsed": false,
    "jupyter": {
     "outputs_hidden": false
    }
   },
   "outputs": [],
   "source": [
    "model = smp.DeepLabV3Plus(\n",
    "    encoder_name=\"resnet50\",\n",
    "    encoder_weights=\"imagenet\",\n",
    "    in_channels=3,\n",
    "    classes=2, \n",
    ")\n"
   ]
  },
  {
   "cell_type": "code",
   "execution_count": 18,
   "metadata": {},
   "outputs": [],
   "source": [
    "model = nn.DataParallel(model, device_ids = [ 0, 1, 2, 3]).cuda()"
   ]
  },
  {
   "cell_type": "code",
   "execution_count": 19,
   "metadata": {
    "ExecuteTime": {
     "end_time": "2024-02-27T11:37:12.274789Z",
     "start_time": "2024-02-27T11:37:12.242866200Z"
    },
    "collapsed": false,
    "jupyter": {
     "outputs_hidden": false
    }
   },
   "outputs": [],
   "source": [
    "weight = torch.tensor(weight).cuda()\n",
    "criterion = nn.CrossEntropyLoss(weight=weight).cuda()\n",
    "#criterion = DiceLoss()\n",
    "optimizer = optim.AdamW(model.parameters(), lr=0.001, weight_decay=0.001)\n"
   ]
  },
  {
   "cell_type": "code",
   "execution_count": 20,
   "metadata": {
    "ExecuteTime": {
     "end_time": "2024-02-27T11:37:12.632986100Z",
     "start_time": "2024-02-27T11:37:12.619699400Z"
    },
    "collapsed": false,
    "jupyter": {
     "outputs_hidden": false
    }
   },
   "outputs": [],
   "source": [
    "def train_epoch(model, dataloader, criterion, optimizer):\n",
    "    model.train()\n",
    "    running_loss = 0.0\n",
    "    running_iou = 0.0\n",
    "    for i, (inputs, labels) in enumerate(dataloader):\n",
    "        try:\n",
    "            inputs = inputs.float().cuda()\n",
    "            labels = labels.cuda()\n",
    "            optimizer.zero_grad()\n",
    "            outputs = model(inputs)\n",
    "            loss = criterion(outputs, labels.squeeze(1).long())\n",
    "            loss.backward()\n",
    "            optimizer.step()\n",
    "            running_loss += loss.item()\n",
    "            pred = torch.argmax(outputs, dim=1)\n",
    "            iou = iou_score(pred, labels.squeeze(1))\n",
    "            running_iou += iou\n",
    "        except Exception as e:\n",
    "            print(e)\n",
    "            continue\n",
    "    epoch_loss = running_loss / len(dataloader)\n",
    "    epoch_iou = running_iou / len(dataloader)\n",
    "    return epoch_loss, epoch_iou\n"
   ]
  },
  {
   "cell_type": "code",
   "execution_count": 21,
   "metadata": {
    "ExecuteTime": {
     "end_time": "2024-02-27T11:37:13.175520Z",
     "start_time": "2024-02-27T11:37:13.171514200Z"
    },
    "collapsed": false,
    "jupyter": {
     "outputs_hidden": false
    }
   },
   "outputs": [],
   "source": [
    "def validate(model, dataloader, criterion):\n",
    "    model.eval()\n",
    "    running_loss = 0.0\n",
    "    running_iou = 0.0\n",
    "    num_batches = len(dataloader)\n",
    "\n",
    "    with torch.no_grad():\n",
    "        for inputs, labels in dataloader:\n",
    "            try:\n",
    "                inputs = inputs.cuda()\n",
    "                labels = labels.cuda()\n",
    "                outputs = model(inputs.float())\n",
    "                loss = criterion(outputs, labels.squeeze(1).long())\n",
    "                running_loss += loss.item()\n",
    "                pred = torch.argmax(outputs, dim=1)\n",
    "                running_iou += iou_score(pred, labels.squeeze(1))\n",
    "            except Exception as e:\n",
    "                print(e)\n",
    "\n",
    "        epoch_loss = running_loss / num_batches\n",
    "        epoch_iou = running_iou / num_batches\n",
    "\n",
    "    return epoch_loss, epoch_iou\n"
   ]
  },
  {
   "cell_type": "code",
   "execution_count": 22,
   "metadata": {
    "ExecuteTime": {
     "end_time": "2024-02-27T11:37:14.102523500Z",
     "start_time": "2024-02-27T11:37:13.533736100Z"
    },
    "collapsed": false,
    "jupyter": {
     "outputs_hidden": false
    }
   },
   "outputs": [],
   "source": [
    "import logging\n",
    "import matplotlib.pyplot as plt\n",
    "\n",
    "# Настройка логирования\n",
    "logging.basicConfig(level=logging.INFO)\n",
    "logger = logging.getLogger(__name__)\n",
    "\n",
    "def train_model(model, train_dataloader, val_dataloader, criterion, optimizer, num_epochs):\n",
    "    best_loss = float('inf')\n",
    "    train_loss, val_loss, train_iou, val_iou = [], [], [], []\n",
    "    for epoch in range(num_epochs):\n",
    "        try:\n",
    "            epoch_train_loss, epoch_train_iou = train_epoch(model, train_dataloader, criterion, optimizer)\n",
    "        except Exception as e:\n",
    "            logger.error(f\"Error in training epoch {epoch + 1}: {e}\")\n",
    "            print(e)\n",
    "        train_loss.append(epoch_train_loss)\n",
    "        train_iou.append(epoch_train_iou)\n",
    "        try:\n",
    "            epoch_val_loss, epoch_val_iou = validate(model, val_dataloader, criterion)\n",
    "        except Exception as e:\n",
    "            logger.error(f\"Error in validation epoch {epoch + 1}: {e}\")\n",
    "            print(e)\n",
    "        val_loss.append(epoch_val_loss)\n",
    "        val_iou.append(epoch_val_iou)\n",
    "        # Save the best model\n",
    "        if epoch_val_loss < best_loss:\n",
    "            best_loss = epoch_val_loss\n",
    "            torch.save(model.state_dict(), \"best_model.pth\")\n",
    "            logger.info(\"Saved best model\")\n",
    "        torch.save(model.state_dict(), \"last_model.pth\")\n",
    "\n",
    "        logger.info(\"******************************\")\n",
    "        logger.info(f\"Epoch {epoch+1}/{num_epochs}\")\n",
    "        logger.info(f\"Train Loss: {epoch_train_loss:.4f}, IoU: {epoch_train_iou:.4f}\")\n",
    "        logger.info(f\"Validation Loss: {epoch_val_loss:.4f}, IoU: {epoch_val_iou:.4f}\")\n",
    "\n",
    "    fig, (ax1, ax2) = plt.subplots(1, 2)\n",
    "    ax1.plot(train_loss, label=\"Train Loss\")\n",
    "    ax1.plot(val_loss, label=\"Validation Loss\")\n",
    "    ax1.set(xlabel='Epoch', ylabel='Loss')\n",
    "    ax1.legend()\n",
    "    ax2.plot(train_iou, label=\"Train IoU\")\n",
    "    ax2.plot(val_iou, label=\"Validation IoU\")\n",
    "    ax2.set(xlabel='Epoch', ylabel='IoU')\n",
    "    plt.show()\n"
   ]
  },
  {
   "cell_type": "code",
   "execution_count": null,
   "metadata": {
    "ExecuteTime": {
     "start_time": "2024-02-27T11:37:19.546246600Z"
    },
    "collapsed": false,
    "is_executing": true,
    "jupyter": {
     "outputs_hidden": false
    }
   },
   "outputs": [
    {
     "name": "stderr",
     "output_type": "stream",
     "text": [
      "INFO:__main__:Saved best model\n",
      "INFO:__main__:******************************\n",
      "INFO:__main__:Epoch 1/1000\n",
      "INFO:__main__:Train Loss: 0.5709, IoU: 0.5752\n",
      "INFO:__main__:Validation Loss: 0.5446, IoU: 0.6608\n",
      "INFO:__main__:******************************\n",
      "INFO:__main__:Epoch 2/1000\n",
      "INFO:__main__:Train Loss: 0.5632, IoU: 0.5823\n",
      "INFO:__main__:Validation Loss: 0.5925, IoU: 0.5205\n"
     ]
    }
   ],
   "source": [
    "train_model(model, train_dataloader, val_dataloader, criterion, optimizer, 1000)"
   ]
  },
  {
   "cell_type": "code",
   "execution_count": null,
   "metadata": {},
   "outputs": [],
   "source": []
  }
 ],
 "metadata": {
  "kernelspec": {
   "display_name": "Python 3 (ipykernel)",
   "language": "python",
   "name": "python3"
  },
  "language_info": {
   "codemirror_mode": {
    "name": "ipython",
    "version": 3
   },
   "file_extension": ".py",
   "mimetype": "text/x-python",
   "name": "python",
   "nbconvert_exporter": "python",
   "pygments_lexer": "ipython3",
   "version": "3.10.13"
  }
 },
 "nbformat": 4,
 "nbformat_minor": 4
}
