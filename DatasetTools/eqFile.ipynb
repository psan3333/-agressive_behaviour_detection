{
 "cells": [
  {
   "cell_type": "markdown",
   "source": [
    "Програмка просто сравнивает папки для Unetки, что-бы там были одинаковые файлы"
   ],
   "metadata": {
    "collapsed": false
   },
   "id": "ddcb4305aab95b20"
  },
  {
   "cell_type": "code",
   "execution_count": 1,
   "id": "initial_id",
   "metadata": {
    "collapsed": true,
    "ExecuteTime": {
     "end_time": "2024-02-29T07:12:52.842704700Z",
     "start_time": "2024-02-29T07:12:52.799705Z"
    }
   },
   "outputs": [],
   "source": [
    "import os"
   ]
  },
  {
   "cell_type": "code",
   "outputs": [],
   "source": [
    "file_list1 = os.listdir(\"C:\\\\Users\\\\marku\\\\Projects\\\\aggression\\\\mymodelV2\\\\Human-Segmentation-Dataset-master\\\\data\\\\val\")"
   ],
   "metadata": {
    "collapsed": false,
    "ExecuteTime": {
     "end_time": "2024-02-29T07:51:03.499818700Z",
     "start_time": "2024-02-29T07:51:03.486818300Z"
    }
   },
   "id": "2576aff3790fdeb9",
   "execution_count": 42
  },
  {
   "cell_type": "code",
   "outputs": [],
   "source": [
    "file_list2 = os.listdir(\"C:\\\\Users\\\\marku\\\\Projects\\\\aggression\\\\mymodelV2\\\\Human-Segmentation-Dataset-master\\\\data\\\\val_labels\")"
   ],
   "metadata": {
    "collapsed": false,
    "ExecuteTime": {
     "end_time": "2024-02-29T07:51:03.703833900Z",
     "start_time": "2024-02-29T07:51:03.691835800Z"
    }
   },
   "id": "f48f290048a80cb2",
   "execution_count": 43
  },
  {
   "cell_type": "code",
   "outputs": [],
   "source": [
    "file_list1 = [i.split(\".\")[0] for i in file_list1]\n",
    "file_list2 = [i.split(\".\")[0] for i in file_list2]"
   ],
   "metadata": {
    "collapsed": false,
    "ExecuteTime": {
     "end_time": "2024-02-29T07:51:04.102393400Z",
     "start_time": "2024-02-29T07:51:04.084395500Z"
    }
   },
   "id": "582935d4b21f0dbb",
   "execution_count": 44
  },
  {
   "cell_type": "code",
   "outputs": [
    {
     "data": {
      "text/plain": "True"
     },
     "execution_count": 45,
     "metadata": {},
     "output_type": "execute_result"
    }
   ],
   "source": [
    "file_list1 == file_list2"
   ],
   "metadata": {
    "collapsed": false,
    "ExecuteTime": {
     "end_time": "2024-02-29T07:51:04.499927300Z",
     "start_time": "2024-02-29T07:51:04.490924200Z"
    }
   },
   "id": "dfc7ff6d12032fc2",
   "execution_count": 45
  },
  {
   "cell_type": "code",
   "outputs": [
    {
     "data": {
      "text/plain": "set()"
     },
     "execution_count": 40,
     "metadata": {},
     "output_type": "execute_result"
    }
   ],
   "source": [
    "set(file_list1) - set(file_list2)"
   ],
   "metadata": {
    "collapsed": false,
    "ExecuteTime": {
     "end_time": "2024-02-29T07:50:52.669534600Z",
     "start_time": "2024-02-29T07:50:52.645474100Z"
    }
   },
   "id": "3d2fccea570e1f06",
   "execution_count": 40
  },
  {
   "cell_type": "code",
   "outputs": [
    {
     "data": {
      "text/plain": "set()"
     },
     "execution_count": 41,
     "metadata": {},
     "output_type": "execute_result"
    }
   ],
   "source": [
    "set(file_list2) - set(file_list1)"
   ],
   "metadata": {
    "collapsed": false,
    "ExecuteTime": {
     "end_time": "2024-02-29T07:50:53.143708500Z",
     "start_time": "2024-02-29T07:50:53.131710200Z"
    }
   },
   "id": "9bac5c8e0f5aa30b",
   "execution_count": 41
  },
  {
   "cell_type": "code",
   "outputs": [],
   "source": [],
   "metadata": {
    "collapsed": false
   },
   "id": "3286e8924f28fdd1"
  }
 ],
 "metadata": {
  "kernelspec": {
   "display_name": "Python 3",
   "language": "python",
   "name": "python3"
  },
  "language_info": {
   "codemirror_mode": {
    "name": "ipython",
    "version": 2
   },
   "file_extension": ".py",
   "mimetype": "text/x-python",
   "name": "python",
   "nbconvert_exporter": "python",
   "pygments_lexer": "ipython2",
   "version": "2.7.6"
  }
 },
 "nbformat": 4,
 "nbformat_minor": 5
}
