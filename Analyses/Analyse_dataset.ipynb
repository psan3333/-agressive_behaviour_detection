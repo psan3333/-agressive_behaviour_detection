{
 "cells": [
  {
   "cell_type": "code",
   "execution_count": 1,
   "id": "69093c03-0e94-4ad6-9eab-66fc6d98489c",
   "metadata": {},
   "outputs": [
    {
     "name": "stderr",
     "output_type": "stream",
     "text": [
      "2024-03-10 12:40:19.173756: I tensorflow/core/util/port.cc:110] oneDNN custom operations are on. You may see slightly different numerical results due to floating-point round-off errors from different computation orders. To turn them off, set the environment variable `TF_ENABLE_ONEDNN_OPTS=0`.\n",
      "2024-03-10 12:40:19.223156: I tensorflow/core/platform/cpu_feature_guard.cc:182] This TensorFlow binary is optimized to use available CPU instructions in performance-critical operations.\n",
      "To enable the following instructions: SSE4.1 SSE4.2 AVX AVX2 AVX512F AVX512_VNNI FMA, in other operations, rebuild TensorFlow with the appropriate compiler flags.\n"
     ]
    }
   ],
   "source": [
    "import csv\n",
    "import os\n",
    "import cv2\n",
    "import glob\n",
    "import logging\n",
    "import mediapipe as mp\n",
    "\n",
    "import matplotlib.pyplot as plt"
   ]
  },
  {
   "cell_type": "code",
   "execution_count": null,
   "id": "181a60dd-347d-4602-bd59-9cbb9d9d0810",
   "metadata": {},
   "outputs": [
    {
     "name": "stderr",
     "output_type": "stream",
     "text": [
      "INFO: Created TensorFlow Lite XNNPACK delegate for CPU.\n"
     ]
    }
   ],
   "source": [
    "logging.basicConfig(filename='processing.log', level=logging.INFO, format='%(asctime)s - %(message)s')\n",
    "\n",
    "mp_pose = mp.solutions.pose\n",
    "pose = mp_pose.Pose(static_image_mode=False, min_detection_confidence=0.5, min_tracking_confidence=0.5)\n",
    "\n",
    "folder_path = 'datsaet_new'\n",
    "data = []\n",
    "\n",
    "video_count = 0\n",
    "\n",
    "for video_file in glob.glob(os.path.join(folder_path, '*.avi')):\n",
    "    video_count += 1\n",
    "    logging.info(f'Processing video: {os.path.basename(video_file)}, Video {video_count} out of {len(glob.glob(os.path.join(folder_path, \"*.avi\")))}')\n",
    "\n",
    "    video_capture = cv2.VideoCapture(video_file)\n",
    "    \n",
    "    keypoints_count = 0\n",
    "    frames_count = 0\n",
    "\n",
    "    while video_capture.isOpened():\n",
    "        ret, frame = video_capture.read()\n",
    "        if not ret:\n",
    "            break\n",
    "\n",
    "        rgb_frame = cv2.cvtColor(frame, cv2.COLOR_BGR2RGB)\n",
    "\n",
    "        results = pose.process(rgb_frame)\n",
    "\n",
    "        if results.pose_landmarks:\n",
    "            for landmark in results.pose_landmarks.landmark:\n",
    "                keypoints_count += 1\n",
    "        frames_count += 1\n",
    "\n",
    "    video_capture.release()\n",
    "    \n",
    "    video_name = os.path.basename(video_file)\n",
    "    average_keypoints_per_frame = keypoints_count / frames_count if frames_count > 0 else 0\n",
    "\n",
    "    data.append([video_name, keypoints_count, average_keypoints_per_frame])\n",
    "\n",
    "csv_file = 'pose_keypoints_data.csv'\n",
    "with open(csv_file, mode='w', newline='') as file:\n",
    "    writer = csv.writer(file)\n",
    "    writer.writerow(['Video Name', 'Total Keypoints', 'Average Keypoints per Frame'])\n",
    "    writer.writerows(data)\n",
    "\n",
    "print(f'Data saved to {csv_file}')\n"
   ]
  },
  {
   "cell_type": "code",
   "execution_count": null,
   "id": "5df8bd28-e2a2-4c05-afb6-a0472122844c",
   "metadata": {},
   "outputs": [],
   "source": []
  },
  {
   "cell_type": "code",
   "execution_count": null,
   "id": "78d1090d-17b3-4f53-a7d3-461e5267a19e",
   "metadata": {},
   "outputs": [],
   "source": []
  },
  {
   "cell_type": "code",
   "execution_count": null,
   "id": "b6196bb5-33bb-4e52-9b5b-6f0a6500f938",
   "metadata": {},
   "outputs": [],
   "source": []
  }
 ],
 "metadata": {
  "kernelspec": {
   "display_name": "Python 3 (ipykernel)",
   "language": "python",
   "name": "python3"
  },
  "language_info": {
   "codemirror_mode": {
    "name": "ipython",
    "version": 3
   },
   "file_extension": ".py",
   "mimetype": "text/x-python",
   "name": "python",
   "nbconvert_exporter": "python",
   "pygments_lexer": "ipython3",
   "version": "3.10.13"
  }
 },
 "nbformat": 4,
 "nbformat_minor": 5
}
