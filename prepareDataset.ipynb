{
 "cells": [
  {
   "cell_type": "code",
   "execution_count": 1,
   "id": "339545e0-5442-49eb-a44a-e7f8e8f2b53c",
   "metadata": {},
   "outputs": [],
   "source": [
    "import os\n",
    "import pandas as pd\n",
    "\n",
    "violence_path = \"dataset/Violence\"\n",
    "not_violence_path = \"dataset/NotViolence\"\n",
    "\n",
    "# Получение списка файлов в каждой папке\n",
    "violence_files = [os.path.join(violence_path, f) for f in os.listdir(violence_path) if os.path.isfile(os.path.join(violence_path, f))]\n",
    "not_violence_files = [os.path.join(not_violence_path, f) for f in os.listdir(not_violence_path) if os.path.isfile(os.path.join(not_violence_path, f))]\n",
    "\n",
    "# Создание DataFrame для хранения данных\n",
    "data = pd.DataFrame(columns=[\"label\", \"path\"])\n",
    "\n",
    "# Добавление файлов насилия\n",
    "data = pd.concat([data, pd.DataFrame({\"label\": [\"violence\"] * len(violence_files), \"path\": violence_files})], ignore_index=True)\n",
    "\n",
    "# Добавление файлов без насилия\n",
    "data = pd.concat([data, pd.DataFrame({\"label\": [\"notviolence\"] * len(not_violence_files), \"path\": not_violence_files})], ignore_index=True)\n",
    "\n",
    "# Сохранение данных в CSV файл\n",
    "data.to_csv(\"data.csv\", index=False)\n"
   ]
  },
  {
   "cell_type": "code",
   "execution_count": 2,
   "id": "79e46e5a-e932-40a6-98ae-faba354cbaf7",
   "metadata": {},
   "outputs": [],
   "source": [
    "# Загрузка данных из CSV файла\n",
    "data = pd.read_csv(\"data.csv\")\n",
    "\n",
    "# Разделение данных на тренировочный и тестовый наборы\n",
    "train_data = data.sample(frac=0.8, random_state=42)\n",
    "test_data = data.drop(train_data.index)\n",
    "\n",
    "# Сохранение тренировочного и тестового наборов в CSV файлы\n",
    "train_data.to_csv(\"train.csv\", index=False)\n",
    "test_data.to_csv(\"test.csv\", index=False)\n"
   ]
  },
  {
   "cell_type": "code",
   "execution_count": null,
   "id": "d177e75c-8c11-4fc9-8d97-159852633385",
   "metadata": {},
   "outputs": [],
   "source": []
  }
 ],
 "metadata": {
  "kernelspec": {
   "display_name": "Python 3 (ipykernel)",
   "language": "python",
   "name": "python3"
  },
  "language_info": {
   "codemirror_mode": {
    "name": "ipython",
    "version": 3
   },
   "file_extension": ".py",
   "mimetype": "text/x-python",
   "name": "python",
   "nbconvert_exporter": "python",
   "pygments_lexer": "ipython3",
   "version": "3.10.13"
  }
 },
 "nbformat": 4,
 "nbformat_minor": 5
}
