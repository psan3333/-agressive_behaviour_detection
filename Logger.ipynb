{
 "cells": [
  {
   "cell_type": "code",
   "execution_count": 1,
   "metadata": {
    "ExecuteTime": {
     "end_time": "2024-02-27T11:31:23.777869400Z",
     "start_time": "2024-02-27T11:31:18.934126200Z"
    }
   },
   "outputs": [
    {
     "name": "stdout",
     "output_type": "stream",
     "text": [
      "cuda\n"
     ]
    }
   ],
   "source": [
    "import os\n",
    "import random\n",
    "from PIL import Image\n",
    "import numpy as np\n",
    "from torch.utils.data import DataLoader, Dataset\n",
    "import torch\n",
    "device = torch.device(\"cuda\" if torch.cuda.is_available() else \"cpu\")\n",
    "print(device)\n",
    "import segmentation_models_pytorch as smp\n",
    "import torch.nn as nn\n",
    "import torch.optim as optim\n",
    "import torchvision.transforms as transforms\n",
    "import torchvision.transforms.functional as F\n",
    "import os\n",
    "import albumentations as A\n"
   ]
  },
  {
   "cell_type": "code",
   "execution_count": 2,
   "metadata": {},
   "outputs": [
    {
     "name": "stdout",
     "output_type": "stream",
     "text": [
      "sagemaker.config INFO - Not applying SDK defaults from location: /etc/xdg/sagemaker/config.yaml\n",
      "sagemaker.config INFO - Not applying SDK defaults from location: /home/sagemaker-user/.config/sagemaker/config.yaml\n",
      "augmentations-experiment\n"
     ]
    }
   ],
   "source": [
    "from torchvision import datasets, transforms\n",
    "from sagemaker.session import Session\n",
    "from sagemaker.experiments.run import Run, load_run\n",
    "from sagemaker.utils import unique_name_from_base\n",
    "import torch\n",
    "import os\n",
    "import sys\n",
    "import logging\n",
    "from IPython.display import set_matplotlib_formats\n",
    "from matplotlib import pyplot as plt\n",
    "\n",
    "logger = logging.getLogger(__name__)\n",
    "logger.setLevel(logging.DEBUG)\n",
    "logger.addHandler(logging.StreamHandler(sys.stdout))\n",
    "\n",
    "\n",
    "experiment_name = (\"augmentations-experiment\") #Задаем имя эксперимента чтобы потом найти его в списке\n",
    "run_name = \"experiment-runv1\" #Имя конкретного запуска, сюда например можно в название написать параметры которые поодгоняем экспериментом\n",
    "print(experiment_name)"
   ]
  },
  {
   "cell_type": "code",
   "execution_count": 3,
   "metadata": {
    "ExecuteTime": {
     "end_time": "2024-02-27T11:31:23.793848Z",
     "start_time": "2024-02-27T11:31:23.779129800Z"
    },
    "collapsed": false,
    "jupyter": {
     "outputs_hidden": false
    }
   },
   "outputs": [],
   "source": [
    "#path\n",
    "#train\n",
    "train_image = \"data/train/\"\n",
    "train_labels = \"data/train_labels\"\n",
    "#test\n",
    "test_image = \"data/test\"\n",
    "test_labels = \"data/test_labels\"\n",
    "#val\n",
    "val_image = \"data/val\"\n",
    "val_labels = \"data/val_labels\""
   ]
  },
  {
   "cell_type": "code",
   "execution_count": 4,
   "metadata": {},
   "outputs": [
    {
     "name": "stdout",
     "output_type": "stream",
     "text": [
      "True\n"
     ]
    }
   ],
   "source": [
    "file_list1 = os.listdir(train_image)\n",
    "file_list2 = os.listdir(train_labels)\n",
    "file_list1 = [i.split(\".\")[0] for i in file_list1]\n",
    "file_list2 = [i.split(\".\")[0] for i in file_list2]\n",
    "print(file_list1 == file_list2)"
   ]
  },
  {
   "cell_type": "code",
   "execution_count": 5,
   "metadata": {},
   "outputs": [
    {
     "name": "stdout",
     "output_type": "stream",
     "text": [
      "True\n"
     ]
    }
   ],
   "source": [
    "file_list1 = os.listdir(val_image)\n",
    "file_list2 = os.listdir(val_labels)\n",
    "file_list1 = [i.split(\".\")[0] for i in file_list1]\n",
    "file_list2 = [i.split(\".\")[0] for i in file_list2]\n",
    "print(file_list1 == file_list2)"
   ]
  },
  {
   "cell_type": "code",
   "execution_count": 11,
   "metadata": {
    "ExecuteTime": {
     "end_time": "2024-02-27T11:31:25.402882800Z",
     "start_time": "2024-02-27T11:31:23.811658500Z"
    },
    "collapsed": false,
    "jupyter": {
     "outputs_hidden": false
    }
   },
   "outputs": [
    {
     "ename": "ZeroDivisionError",
     "evalue": "division by zero",
     "output_type": "error",
     "traceback": [
      "\u001b[0;31m---------------------------------------------------------------------------\u001b[0m",
      "\u001b[0;31mZeroDivisionError\u001b[0m                         Traceback (most recent call last)",
      "Cell \u001b[0;32mIn[11], line 23\u001b[0m\n\u001b[1;32m     20\u001b[0m             class_255_count \u001b[38;5;241m+\u001b[39m\u001b[38;5;241m=\u001b[39m colors[\u001b[38;5;241m1\u001b[39m][\u001b[38;5;241m0\u001b[39m]\n\u001b[1;32m     22\u001b[0m total_count \u001b[38;5;241m=\u001b[39m class_0_count \u001b[38;5;241m+\u001b[39m class_255_count\n\u001b[0;32m---> 23\u001b[0m class_0_weight \u001b[38;5;241m=\u001b[39m \u001b[43mclass_0_count\u001b[49m\u001b[43m \u001b[49m\u001b[38;5;241;43m/\u001b[39;49m\u001b[43m \u001b[49m\u001b[43mtotal_count\u001b[49m\n\u001b[1;32m     24\u001b[0m class_255_weight \u001b[38;5;241m=\u001b[39m class_255_count \u001b[38;5;241m/\u001b[39m total_count\n\u001b[1;32m     26\u001b[0m \u001b[38;5;28mprint\u001b[39m(\u001b[38;5;124mf\u001b[39m\u001b[38;5;124m\"\u001b[39m\u001b[38;5;124mClass 0 weight: \u001b[39m\u001b[38;5;132;01m{\u001b[39;00mclass_0_weight\u001b[38;5;132;01m}\u001b[39;00m\u001b[38;5;124m\"\u001b[39m)\n",
      "\u001b[0;31mZeroDivisionError\u001b[0m: division by zero"
     ]
    }
   ],
   "source": [
    "from PIL import Image\n",
    "import os\n",
    "\n",
    "import os\n",
    "\n",
    "path = train_image\n",
    "\n",
    "class_0_count = 0\n",
    "class_255_count = 0\n",
    "\n",
    "i = 0\n",
    "for filename in os.listdir(path):\n",
    "    i += 1\n",
    "    if i == 1000:\n",
    "        break\n",
    "    with Image.open(os.path.join(path, filename)) as img:\n",
    "        colors = img.getchannel(0).getcolors()\n",
    "        if len(colors) == 2:\n",
    "            class_0_count += colors[0][0]\n",
    "            class_255_count += colors[1][0]\n",
    "\n",
    "total_count = class_0_count + class_255_count\n",
    "class_0_weight = class_0_count / total_count\n",
    "class_255_weight = class_255_count / total_count\n",
    "\n",
    "print(f\"Class 0 weight: {class_0_weight}\")\n",
    "print(f\"Class 255 weight: {class_255_weight}\")\n",
    "weight = [class_0_weight, class_255_weight]\n",
    "\n",
    "\n",
    "class_0_count = 0\n",
    "class_255_count = 0\n",
    "\n",
    "i = 0\n",
    "for filename in os.listdir(path):\n",
    "    i += 1\n",
    "    if i == 1000:\n",
    "        break\n",
    "    with Image.open(os.path.join(path, filename)) as img:\n",
    "        colors = img.getchannel(0).getcolors()\n",
    "        if len(colors) == 2:\n",
    "            class_0_count += colors[0][0]\n",
    "            class_255_count += colors[1][0]\n",
    "\n",
    "total_count = class_0_count + class_255_count\n",
    "class_0_weight = class_0_count / total_count\n",
    "class_255_weight = class_255_count / total_count\n",
    "\n",
    "print(f\"Class 0 weight: {class_0_weight}\")\n",
    "print(f\"Class 255 weight: {class_255_weight}\")\n",
    "weight = [class_0_weight, class_255_weight]\n"
   ]
  },
  {
   "cell_type": "code",
   "execution_count": 6,
   "metadata": {},
   "outputs": [
    {
     "data": {
      "text/plain": [
       "True"
      ]
     },
     "execution_count": 6,
     "metadata": {},
     "output_type": "execute_result"
    }
   ],
   "source": [
    "sorted([filename.split(\".\")[0] for filename in os.listdir(train_image)]) == sorted([filename.split(\".\")[0] for filename in os.listdir(train_labels)])\n"
   ]
  },
  {
   "cell_type": "code",
   "execution_count": 7,
   "metadata": {
    "ExecuteTime": {
     "end_time": "2024-02-27T11:32:14.826576700Z",
     "start_time": "2024-02-27T11:32:14.665124700Z"
    },
    "collapsed": false,
    "jupyter": {
     "outputs_hidden": false
    }
   },
   "outputs": [],
   "source": [
    "ds_images = []\n",
    "ds_lables = []"
   ]
  },
  {
   "cell_type": "code",
   "execution_count": 8,
   "metadata": {
    "ExecuteTime": {
     "end_time": "2024-02-27T11:34:34.499696Z",
     "start_time": "2024-02-27T11:32:15.415690300Z"
    },
    "collapsed": false,
    "jupyter": {
     "outputs_hidden": false
    }
   },
   "outputs": [
    {
     "name": "stdout",
     "output_type": "stream",
     "text": [
      "1000\n",
      "2000\n",
      "3000\n",
      "4000\n",
      "5000\n",
      "6000\n",
      "7000\n",
      "8000\n",
      "9000\n",
      "10000\n",
      "11000\n",
      "12000\n",
      "13000\n",
      "14000\n",
      "15000\n",
      "16000\n",
      "17000\n",
      "18000\n",
      "19000\n",
      "20000\n",
      "21000\n",
      "22000\n",
      "23000\n",
      "24000\n"
     ]
    }
   ],
   "source": [
    "listdir_train_image = sorted(os.listdir(train_image))\n",
    "j = 0\n",
    "for i in listdir_train_image:\n",
    "    j+=1\n",
    "    if j % 1000 == 0:\n",
    "        print(j)\n",
    "        #break\n",
    "\n",
    "    ds_images.append(Image.open(os.path.join(train_image, i)).convert(\"RGB\"))"
   ]
  },
  {
   "cell_type": "code",
   "execution_count": 9,
   "metadata": {
    "ExecuteTime": {
     "end_time": "2024-02-27T11:36:49.965000600Z",
     "start_time": "2024-02-27T11:35:03.841722300Z"
    },
    "collapsed": false,
    "jupyter": {
     "outputs_hidden": false
    }
   },
   "outputs": [
    {
     "name": "stdout",
     "output_type": "stream",
     "text": [
      "1000\n",
      "2000\n",
      "3000\n",
      "4000\n",
      "5000\n",
      "6000\n",
      "7000\n",
      "8000\n",
      "9000\n",
      "10000\n",
      "11000\n",
      "12000\n",
      "13000\n",
      "14000\n",
      "15000\n",
      "16000\n",
      "17000\n",
      "18000\n",
      "19000\n",
      "20000\n",
      "21000\n",
      "22000\n",
      "23000\n",
      "24000\n"
     ]
    }
   ],
   "source": [
    "listdir_train_labels = sorted(os.listdir(train_labels))\n",
    "j = 0\n",
    "for i in listdir_train_labels:\n",
    "    j+=1\n",
    "    if j % 1000 == 0:\n",
    "        print(j)\n",
    "        #break\n",
    "    ds_lables.append(Image.open(os.path.join(train_labels, i)).convert(\"L\"))"
   ]
  },
  {
   "cell_type": "code",
   "execution_count": 10,
   "metadata": {
    "ExecuteTime": {
     "end_time": "2024-02-27T11:37:04.078168200Z",
     "start_time": "2024-02-27T11:37:04.074171800Z"
    },
    "collapsed": false,
    "jupyter": {
     "outputs_hidden": false
    }
   },
   "outputs": [],
   "source": [
    "ds_images_val = []\n",
    "ds_lables_val = []"
   ]
  },
  {
   "cell_type": "code",
   "execution_count": 11,
   "metadata": {
    "ExecuteTime": {
     "end_time": "2024-02-27T11:37:04.756173600Z",
     "start_time": "2024-02-27T11:37:04.494734800Z"
    },
    "collapsed": false,
    "jupyter": {
     "outputs_hidden": false
    }
   },
   "outputs": [],
   "source": [
    "listdir_val_image = sorted(os.listdir(val_image))\n",
    "for i in listdir_val_image:\n",
    "    ds_images_val.append(Image.open(os.path.join(val_image, i)).convert(\"RGB\"))"
   ]
  },
  {
   "cell_type": "code",
   "execution_count": 12,
   "metadata": {
    "ExecuteTime": {
     "end_time": "2024-02-27T11:37:05.440746300Z",
     "start_time": "2024-02-27T11:37:05.288938600Z"
    },
    "collapsed": false,
    "jupyter": {
     "outputs_hidden": false
    }
   },
   "outputs": [],
   "source": [
    "listdir_val_labels = sorted(os.listdir(val_labels))\n",
    "for i in listdir_val_labels:\n",
    "    ds_lables_val.append(Image.open(os.path.join(val_labels, i)).convert(\"L\"))"
   ]
  },
  {
   "cell_type": "code",
   "execution_count": 13,
   "metadata": {
    "ExecuteTime": {
     "end_time": "2024-02-27T11:37:06.831749500Z",
     "start_time": "2024-02-27T11:37:06.792975400Z"
    },
    "collapsed": false,
    "jupyter": {
     "outputs_hidden": false
    }
   },
   "outputs": [
    {
     "name": "stderr",
     "output_type": "stream",
     "text": [
      "/opt/conda/lib/python3.10/site-packages/albumentations/augmentations/transforms.py:1666: UserWarning: Using default interpolation INTER_NEAREST, which is sub-optimal.Please specify interpolation mode for downscale and upscale explicitly.For additional information see this PR https://github.com/albumentations-team/albumentations/pull/584\n",
      "  warnings.warn(\n",
      "/opt/conda/lib/python3.10/site-packages/albumentations/augmentations/blur/transforms.py:180: UserWarning: blur_limit and sigma_limit minimum value can not be both equal to 0. blur_limit minimum value changed to 3.\n",
      "  warnings.warn(\n"
     ]
    }
   ],
   "source": [
    "import albumentations as A\n",
    "\n",
    "aug_transform = A.Compose([\n",
    "    A.Downscale(scale_min=0.1, scale_max=0.4, p=0.3),\n",
    "    A.GaussNoise(var_limit=(10.0, 50.0), p=0.3),\n",
    "    A.MedianBlur(blur_limit=7, p=0.3),\n",
    "    A.GaussianBlur(blur_limit=7, p=0.2),\n",
    "    A.OpticalDistortion(distort_limit=0.3, p=0.2),\n",
    "    A.RandomBrightnessContrast(p=0.2),\n",
    "    A.RandomShadow(shadow_roi=(0, 0, 0.5, 1), p=0.2),\n",
    "    A.ElasticTransform(alpha=120, sigma=120 * 0.05, alpha_affine=120 * 0.03, p=0.2),\n",
    "    A.RandomRain(p=0.2),\n",
    "    A.RandomSnow(p=0.2)\n",
    "])\n",
    "\n",
    "\n",
    "\n",
    "def transform_and_crop(img, mask, size=240):\n",
    "    \n",
    "    img = img.resize((size, size), resample=Image.BICUBIC)\n",
    "    mask = mask.resize((size, size), resample=Image.NEAREST)\n",
    "    #img, mask = aug_transform(image=img, mask=mask)\n",
    "\n",
    "    img = np.array(img, dtype=np.float32)\n",
    "    mask = np.array(mask, dtype=np.int64)\n",
    "    img = aug_transform(image=img)['image']\n",
    "    # Нормализуем изображение\n",
    "    img = img / 255.0\n",
    "    img = (img - 0.5) / 0.5\n",
    "\n",
    "    mask[mask > 0] = 1\n",
    "    mask[mask == 0] = 0\n",
    "\n",
    "    img = torch.from_numpy(img)\n",
    "    mask = torch.from_numpy(mask)\n",
    "    return img, mask\n"
   ]
  },
  {
   "cell_type": "code",
   "execution_count": 14,
   "metadata": {
    "ExecuteTime": {
     "end_time": "2024-02-27T11:37:07.628797400Z",
     "start_time": "2024-02-27T11:37:07.602704300Z"
    },
    "collapsed": false,
    "jupyter": {
     "outputs_hidden": false
    }
   },
   "outputs": [],
   "source": [
    "class custom_dataset(Dataset):\n",
    "    def __init__(self, images, masks, transform=None):\n",
    "        self.images = images\n",
    "        self.masks = masks\n",
    "        self.transform = transform\n",
    "\n",
    "    def __len__(self):\n",
    "        return len(self.images)\n",
    "\n",
    "    def __getitem__(self, idx):\n",
    "        img = self.images[idx]\n",
    "        mask = self.masks[idx]\n",
    "        if self.transform:\n",
    "            img, mask = self.transform(img, mask)\n",
    "        img = img.permute(2, 0, 1)\n",
    "        #print(img.shape)\n",
    "        return img, mask"
   ]
  },
  {
   "cell_type": "code",
   "execution_count": null,
   "metadata": {
    "ExecuteTime": {
     "end_time": "2024-02-27T11:37:08.048912500Z",
     "start_time": "2024-02-27T11:37:08.037712Z"
    },
    "collapsed": false,
    "jupyter": {
     "outputs_hidden": false
    }
   },
   "outputs": [],
   "source": []
  },
  {
   "cell_type": "code",
   "execution_count": 15,
   "metadata": {
    "ExecuteTime": {
     "end_time": "2024-02-27T11:37:08.296897800Z",
     "start_time": "2024-02-27T11:37:08.287696900Z"
    },
    "collapsed": false,
    "jupyter": {
     "outputs_hidden": false
    }
   },
   "outputs": [],
   "source": [
    "train_dataset = custom_dataset(images=ds_images, masks=ds_lables, transform=transform_and_crop)\n",
    "val_dataset = custom_dataset(images=ds_images_val, masks=ds_lables_val, transform=transform_and_crop)\n",
    "train_dataloader = DataLoader(train_dataset, batch_size=128, shuffle=True, num_workers=10)\n",
    "val_dataloader = DataLoader(val_dataset, batch_size=128, shuffle=False, num_workers=10)   "
   ]
  },
  {
   "cell_type": "code",
   "execution_count": 16,
   "metadata": {
    "ExecuteTime": {
     "end_time": "2024-02-27T11:37:08.544672900Z",
     "start_time": "2024-02-27T11:37:08.542672300Z"
    },
    "collapsed": false,
    "jupyter": {
     "outputs_hidden": false
    }
   },
   "outputs": [],
   "source": [
    "def iou_score(pred, target):\n",
    "    pred_i = (pred == 1).float()\n",
    "    target_i = (target == 1).float()\n",
    "    intersection = (pred_i * target_i).sum()\n",
    "    union = pred_i.sum() + target_i.sum() - intersection\n",
    "    if union == 0:\n",
    "        iou_i = 1\n",
    "    else:\n",
    "        iou_i = intersection / union\n",
    "    return iou_i\n"
   ]
  },
  {
   "cell_type": "code",
   "execution_count": 17,
   "metadata": {
    "ExecuteTime": {
     "end_time": "2024-02-27T11:37:09.595920400Z",
     "start_time": "2024-02-27T11:37:09.003111100Z"
    },
    "collapsed": false,
    "jupyter": {
     "outputs_hidden": false
    }
   },
   "outputs": [],
   "source": [
    "model = smp.DeepLabV3Plus(\n",
    "    encoder_name=\"resnet50\",\n",
    "    encoder_weights=\"imagenet\",\n",
    "    in_channels=3,\n",
    "    classes=2, \n",
    ")\n"
   ]
  },
  {
   "cell_type": "code",
   "execution_count": 18,
   "metadata": {},
   "outputs": [],
   "source": [
    "model = nn.DataParallel(model, device_ids = [ 0, 1, 2, 3]).cuda()"
   ]
  },
  {
   "cell_type": "code",
   "execution_count": 19,
   "metadata": {
    "ExecuteTime": {
     "end_time": "2024-02-27T11:37:12.274789Z",
     "start_time": "2024-02-27T11:37:12.242866200Z"
    },
    "collapsed": false,
    "jupyter": {
     "outputs_hidden": false
    }
   },
   "outputs": [],
   "source": [
    "#weight = torch.tensor(weight).cuda()\n",
    "criterion = nn.CrossEntropyLoss().cuda()\n",
    "#criterion = DiceLoss()\n",
    "#criterion = smp.losses.DiceLoss(mode='binary').to(device)\n",
    "\n",
    "optimizer = optim.AdamW(model.parameters(), lr=0.1, weight_decay=0.001)\n"
   ]
  },
  {
   "cell_type": "code",
   "execution_count": 20,
   "metadata": {},
   "outputs": [
    {
     "name": "stdout",
     "output_type": "stream",
     "text": [
      "sagemaker.config INFO - Not applying SDK defaults from location: /etc/xdg/sagemaker/config.yaml\n",
      "sagemaker.config INFO - Not applying SDK defaults from location: /home/sagemaker-user/.config/sagemaker/config.yaml\n"
     ]
    },
    {
     "name": "stderr",
     "output_type": "stream",
     "text": [
      "INFO:sagemaker.experiments.run:The run (experiment-runv1) under experiment (augmentations-experiment) already exists. Loading it.\n"
     ]
    },
    {
     "name": "stdout",
     "output_type": "stream",
     "text": [
      "CPU times: user 155 ms, sys: 24.2 ms, total: 179 ms\n",
      "Wall time: 799 ms\n"
     ]
    }
   ],
   "source": [
    "%%time\n",
    "# Создаем эксперимент и задаем новый запуск передавая имена и текущую сессию SAGEMAKER\n",
    "# Здесь же задаются параметры и метрики которые будут отслеживать\n",
    "with Run(experiment_name=experiment_name, run_name=run_name, sagemaker_session=Session()) as run:\n",
    "    run.log_parameters(\n",
    "        {\"num_train_samples\": train_dataset.__len__, \"num_val_samples\": val_dataset.__len__}\n",
    "    )"
   ]
  },
  {
   "cell_type": "code",
   "execution_count": 21,
   "metadata": {
    "ExecuteTime": {
     "end_time": "2024-02-27T11:37:12.632986100Z",
     "start_time": "2024-02-27T11:37:12.619699400Z"
    },
    "collapsed": false,
    "jupyter": {
     "outputs_hidden": false
    }
   },
   "outputs": [],
   "source": [
    "def train_epoch(model, dataloader, criterion, optimizer):\n",
    "    model.train()\n",
    "    running_loss = 0.0\n",
    "    running_iou = 0.0\n",
    "    for i, (inputs, labels) in enumerate(dataloader):\n",
    "        try:\n",
    "            inputs = inputs.float().cuda()\n",
    "            labels = labels.cuda()\n",
    "            optimizer.zero_grad()\n",
    "            outputs = model(inputs)\n",
    "            loss = criterion(outputs, labels.squeeze(1).long())\n",
    "            loss.backward()\n",
    "            optimizer.step()\n",
    "            running_loss += loss.item()\n",
    "            pred = torch.argmax(outputs, dim=1)\n",
    "            iou = iou_score(pred, labels.squeeze(1))\n",
    "            running_iou += iou\n",
    "        except Exception as e:\n",
    "            print(e)\n",
    "            continue\n",
    "    epoch_loss = running_loss / len(dataloader)\n",
    "    epoch_iou = running_iou / len(dataloader)\n",
    "    return epoch_loss, epoch_iou\n"
   ]
  },
  {
   "cell_type": "code",
   "execution_count": 22,
   "metadata": {
    "ExecuteTime": {
     "end_time": "2024-02-27T11:37:13.175520Z",
     "start_time": "2024-02-27T11:37:13.171514200Z"
    },
    "collapsed": false,
    "jupyter": {
     "outputs_hidden": false
    }
   },
   "outputs": [],
   "source": [
    "def validate(model, dataloader, criterion):\n",
    "    model.eval()\n",
    "    running_loss = 0.0\n",
    "    running_iou = 0.0\n",
    "    num_batches = len(dataloader)\n",
    "\n",
    "    with torch.no_grad():\n",
    "        for inputs, labels in dataloader:\n",
    "            try:\n",
    "                inputs = inputs.cuda()\n",
    "                labels = labels.cuda()\n",
    "                outputs = model(inputs.float())\n",
    "                loss = criterion(outputs, labels.squeeze(1).long())\n",
    "                running_loss += loss.item()\n",
    "                pred = torch.argmax(outputs, dim=1)\n",
    "                running_iou += iou_score(pred, labels.squeeze(1))\n",
    "            except Exception as e:\n",
    "                print(e)\n",
    "\n",
    "        epoch_loss = running_loss / num_batches\n",
    "        epoch_iou = running_iou / num_batches\n",
    "\n",
    "    return epoch_loss, epoch_iou\n"
   ]
  },
  {
   "cell_type": "code",
   "execution_count": 23,
   "metadata": {
    "ExecuteTime": {
     "end_time": "2024-02-27T11:37:14.102523500Z",
     "start_time": "2024-02-27T11:37:13.533736100Z"
    },
    "collapsed": false,
    "jupyter": {
     "outputs_hidden": false
    }
   },
   "outputs": [],
   "source": [
    "import logging\n",
    "import matplotlib.pyplot as plt\n",
    "\n",
    "# Настройка логирования\n",
    "\n",
    "\n",
    "def train_model(run, model, train_dataloader, val_dataloader, criterion, optimizer, num_epochs):\n",
    "    best_loss = float('inf')\n",
    "    train_loss, val_loss, train_iou, val_iou = [], [], [], []\n",
    "\n",
    "    run.log_parameters(\n",
    "        {\n",
    "            \"device\": device.type,\n",
    "            \"data_dir\": train_image,\n",
    "            \"optimizer\": \"AdamW\",\n",
    "            \"epochs\": num_epochs,\n",
    "            \"criterion\": \"CrossEntropyLoss\",\n",
    "        }\n",
    "    )\n",
    "\n",
    "\n",
    "    \n",
    "    for epoch in range(num_epochs):\n",
    "        try:\n",
    "            logger.info(\"******************************\")\n",
    "            logger.info(f\" Training Epoch {epoch+1}/{num_epochs}\")\n",
    "            epoch_train_loss, epoch_train_iou = train_epoch(model, train_dataloader, criterion, optimizer)\n",
    "            run.log_metric(name= \"epoch_train_loss\", value=epoch_train_loss, step=epoch)\n",
    "            run.log_metric(name= \"epoch_train_iou\", value=epoch_train_iou, step=epoch)\n",
    "        except Exception as e:\n",
    "            logger.error(f\"Error in training epoch {epoch + 1}: {e}\")\n",
    "            print(e)\n",
    "        train_loss.append(epoch_train_loss)\n",
    "        train_iou.append(epoch_train_iou)\n",
    "        try:\n",
    "            logger.info(\"******************************\")\n",
    "            logger.info(f\" Validating Epoch {epoch+1}/{num_epochs}\")\n",
    "            epoch_val_loss, epoch_val_iou = validate(model, val_dataloader, criterion)\n",
    "            run.log_metric(name= \"epoch_val_loss\", value=epoch_train_loss, step=epoch)\n",
    "            run.log_metric(name= \"epoch_val_iou\", value=epoch_train_iou, step=epoch)\n",
    "        except Exception as e:\n",
    "            logger.error(f\"Error in validation epoch {epoch + 1}: {e}\")\n",
    "            print(e)\n",
    "        val_loss.append(epoch_val_loss)\n",
    "        val_iou.append(epoch_val_iou)\n",
    "        # Save the best model\n",
    "        if epoch_val_loss < best_loss:\n",
    "            best_loss = epoch_val_loss\n",
    "            torch.save(model.state_dict(), \"best_model.pth\")\n",
    "            logger.info(\"Saved best model\")\n",
    "        torch.save(model.state_dict(), \"last_model.pth\")\n",
    "\n",
    "        logger.info(\"******************************\")\n",
    "        logger.info(f\"Epoch {epoch+1}/{num_epochs}\")\n",
    "        logger.info(f\"Train Loss: {epoch_train_loss:.4f}, IoU: {epoch_train_iou:.4f}\")\n",
    "        logger.info(f\"Validation Loss: {epoch_val_loss:.4f}, IoU: {epoch_val_iou:.4f}\")\n",
    "\n"
   ]
  },
  {
   "cell_type": "code",
   "execution_count": null,
   "metadata": {},
   "outputs": [],
   "source": [
    "%%time\n",
    "#здесь задаем имя прогона\n",
    "with load_run(experiment_name=experiment_name, run_name=\"deeplabv3plus\", sagemaker_session=Session()) as run:\n",
    "    train_model(run, model, train_dataloader, val_dataloader, criterion, optimizer, 1)"
   ]
  },
  {
   "cell_type": "code",
   "execution_count": 26,
   "metadata": {
    "ExecuteTime": {
     "start_time": "2024-02-27T11:37:19.546246600Z"
    },
    "collapsed": false,
    "is_executing": true,
    "jupyter": {
     "outputs_hidden": false
    }
   },
   "outputs": [],
   "source": [
    "#train_model(model, train_dataloader, val_dataloader, criterion, optimizer, 1000)"
   ]
  },
  {
   "cell_type": "code",
   "execution_count": 38,
   "metadata": {},
   "outputs": [
    {
     "data": {
      "text/plain": [
       "'cuda'"
      ]
     },
     "execution_count": 38,
     "metadata": {},
     "output_type": "execute_result"
    }
   ],
   "source": [
    "device.type\n"
   ]
  },
  {
   "cell_type": "code",
   "execution_count": null,
   "metadata": {},
   "outputs": [],
   "source": []
  }
 ],
 "metadata": {
  "kernelspec": {
   "display_name": "Python 3 (ipykernel)",
   "language": "python",
   "name": "python3"
  },
  "language_info": {
   "codemirror_mode": {
    "name": "ipython",
    "version": 3
   },
   "file_extension": ".py",
   "mimetype": "text/x-python",
   "name": "python",
   "nbconvert_exporter": "python",
   "pygments_lexer": "ipython3",
   "version": "3.10.13"
  }
 },
 "nbformat": 4,
 "nbformat_minor": 4
}
